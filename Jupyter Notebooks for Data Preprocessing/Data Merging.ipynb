{
 "cells": [
  {
   "metadata": {
    "ExecuteTime": {
     "end_time": "2024-12-08T10:55:39.006746Z",
     "start_time": "2024-12-08T10:55:36.006001Z"
    }
   },
   "cell_type": "code",
   "source": [
    "import time\n",
    "import numpy as np\n",
    "import pandas as pd\n",
    "from scipy.spatial import cKDTree\n",
    "from tqdm.notebook import tqdm\n",
    "from datetime import timedelta"
   ],
   "id": "ff09da508fa888f3",
   "outputs": [],
   "execution_count": 2
  },
  {
   "metadata": {
    "ExecuteTime": {
     "end_time": "2024-12-06T15:23:26.588272Z",
     "start_time": "2024-12-06T15:23:26.582148Z"
    }
   },
   "cell_type": "code",
   "source": "tqdm.pandas()",
   "id": "b98b489848eda5cd",
   "outputs": [],
   "execution_count": 2
  },
  {
   "metadata": {
    "ExecuteTime": {
     "end_time": "2024-12-06T15:23:26.597559Z",
     "start_time": "2024-12-06T15:23:26.593234Z"
    }
   },
   "cell_type": "code",
   "source": [
    "def timed_function(func):\n",
    "    def wrapper(*args, **kwargs):\n",
    "        start_time = time.time()  # Record the start time\n",
    "        result = func(*args, **kwargs)  # Execute the function\n",
    "        end_time = time.time()  # Record the end time\n",
    "        execution_time = end_time - start_time\n",
    "        print(f\"Execution time: {execution_time:.6f} seconds\")\n",
    "        return result\n",
    "    return wrapper"
   ],
   "id": "46505d464402668",
   "outputs": [],
   "execution_count": 3
  },
  {
   "metadata": {},
   "cell_type": "markdown",
   "source": "## Merging",
   "id": "a6ded6cb9428671f"
  },
  {
   "metadata": {},
   "cell_type": "code",
   "source": [
    "accidents = pd.read_csv('../data/clean/accidents_clean.csv')\n",
    "traffic = pd.read_csv('../data/clean/traffic_clean.csv')\n",
    "pedestrian = pd.read_csv('../data/clean/pedestrian_clean.csv')\n",
    "weather = pd.read_csv('../data/clean/weather_clean.csv')"
   ],
   "id": "5a43b399120a195a",
   "outputs": [],
   "execution_count": null
  },
  {
   "metadata": {
    "ExecuteTime": {
     "end_time": "2024-12-06T15:23:41.306935Z",
     "start_time": "2024-12-06T09:14:53.313855Z"
    }
   },
   "cell_type": "code",
   "source": [
    "accidents['dateTime'] = pd.to_datetime(accidents['dateTime'])\n",
    "traffic['dateTime'] = pd.to_datetime(traffic['dateTime'])\n",
    "pedestrian['dateTime'] = pd.to_datetime(pedestrian['dateTime'])\n",
    "weather['dateTime'] = pd.to_datetime(weather['dateTime'])"
   ],
   "id": "a4701d2b06f4d75f",
   "outputs": [],
   "execution_count": 5
  },
  {
   "metadata": {
    "ExecuteTime": {
     "end_time": "2024-12-06T15:23:41.306935Z",
     "start_time": "2024-12-06T09:15:03.329599Z"
    }
   },
   "cell_type": "code",
   "source": [
    "@timed_function\n",
    "def assign_closest_volume(A, B, name, number_of_stations, number_of_periods):\n",
    "    A = A.copy()\n",
    "    errors = 0\n",
    "    \n",
    "    volume_columns = [f'{name}_volume_{station}_period_{period}'\n",
    "                      for period in range(number_of_periods)\n",
    "                      for station in range(number_of_stations)]\n",
    "    for col in volume_columns:\n",
    "        A[col] = np.full(len(A), np.nan, dtype='float64')\n",
    "\n",
    "    B_grouped = B.groupby('dateTime')\n",
    "\n",
    "    for period in tqdm(range(number_of_periods), desc=\"Processing periods\"):\n",
    "        adjusted_timestamps = A['dateTime'] - pd.to_timedelta(period, unit='h')\n",
    "\n",
    "        unique_timestamps = set(adjusted_timestamps.unique())\n",
    "        valid_timestamps = unique_timestamps.intersection(B_grouped.groups.keys())\n",
    "\n",
    "        if len(valid_timestamps) == 0:\n",
    "            errors += 1\n",
    "            continue\n",
    "\n",
    "        timestamp_to_indices = adjusted_timestamps.groupby(adjusted_timestamps).groups\n",
    "\n",
    "        for timestamp in tqdm(valid_timestamps, desc=f\"Period {period}: Processing timestamps\", leave=False):\n",
    "            idxs = timestamp_to_indices.get(timestamp, [])\n",
    "            \n",
    "            B_filtered = B_grouped.get_group(timestamp)\n",
    "            if B_filtered.empty:\n",
    "                errors += 1\n",
    "                continue  \n",
    "\n",
    "            kd_tree = cKDTree(B_filtered[['x', 'y']].values)\n",
    "\n",
    "            points = A.loc[idxs, ['x', 'y']].values\n",
    "\n",
    "            distances, indices = kd_tree.query(points, k=number_of_stations)\n",
    "\n",
    "            if indices.ndim == 1:\n",
    "                indices = indices[:, np.newaxis]\n",
    "\n",
    "            volumes = B_filtered['volume'].values[indices]\n",
    "\n",
    "            for station in range(number_of_stations):\n",
    "                col_name = f'{name}_volume_{station}_period_{period}'\n",
    "                A.loc[idxs, col_name] = volumes[:, station]\n",
    "\n",
    "    print(f'{A.isna().sum().sum()} values are nan and thus set to 0.')\n",
    "    A[volume_columns] = A[volume_columns].fillna(0)\n",
    "    print(f'Number of errors encountered: {errors}')\n",
    "\n",
    "    return A"
   ],
   "id": "ece49b903147c9e8",
   "outputs": [],
   "execution_count": 6
  },
  {
   "metadata": {
    "ExecuteTime": {
     "end_time": "2024-12-06T15:23:41.306935Z",
     "start_time": "2024-12-06T09:15:03.366342Z"
    }
   },
   "cell_type": "code",
   "source": "accidents_traffic = assign_closest_volume(accidents, traffic, 'traffic', 3, 2)",
   "id": "980935dcc58c85d9",
   "outputs": [
    {
     "data": {
      "text/plain": [
       "Processing periods:   0%|          | 0/2 [00:00<?, ?it/s]"
      ],
      "application/vnd.jupyter.widget-view+json": {
       "version_major": 2,
       "version_minor": 0,
       "model_id": "161383ce318e4f16918cecfdf74398a4"
      }
     },
     "metadata": {},
     "output_type": "display_data"
    },
    {
     "data": {
      "text/plain": [
       "Period 0: Processing timestamps:   0%|          | 0/35750 [00:00<?, ?it/s]"
      ],
      "application/vnd.jupyter.widget-view+json": {
       "version_major": 2,
       "version_minor": 0,
       "model_id": "5f1018c84f2844bbaa62070e36e5b9fc"
      }
     },
     "metadata": {},
     "output_type": "display_data"
    },
    {
     "data": {
      "text/plain": [
       "Period 1: Processing timestamps:   0%|          | 0/35748 [00:00<?, ?it/s]"
      ],
      "application/vnd.jupyter.widget-view+json": {
       "version_major": 2,
       "version_minor": 0,
       "model_id": "0ff58531d01b49909d4e7a659ef62258"
      }
     },
     "metadata": {},
     "output_type": "display_data"
    },
    {
     "name": "stdout",
     "output_type": "stream",
     "text": [
      "12 values are nan and thus set to 0.\n",
      "Number of errors encountered: 0\n",
      "Execution time: 108.377295 seconds\n"
     ]
    }
   ],
   "execution_count": 7
  },
  {
   "metadata": {
    "ExecuteTime": {
     "end_time": "2024-12-06T15:23:41.306935Z",
     "start_time": "2024-12-06T09:17:36.787606Z"
    }
   },
   "cell_type": "code",
   "source": "accidents_traffic.isna().sum()",
   "id": "72ffd01f7cf765a5",
   "outputs": [
    {
     "data": {
      "text/plain": [
       "AccidentType                   0\n",
       "AccidentSeverityCategory       0\n",
       "AccidentInvolvingPedestrian    0\n",
       "AccidentInvolvingBicycle       0\n",
       "AccidentInvolvingMotorcycle    0\n",
       "RoadType                       0\n",
       "x                              0\n",
       "y                              0\n",
       "year                           0\n",
       "month                          0\n",
       "weekday                        0\n",
       "hour                           0\n",
       "dateTime                       0\n",
       "traffic_volume_0_period_0      0\n",
       "traffic_volume_1_period_0      0\n",
       "traffic_volume_2_period_0      0\n",
       "traffic_volume_0_period_1      0\n",
       "traffic_volume_1_period_1      0\n",
       "traffic_volume_2_period_1      0\n",
       "dtype: int64"
      ]
     },
     "execution_count": 9,
     "metadata": {},
     "output_type": "execute_result"
    }
   ],
   "execution_count": 9
  },
  {
   "metadata": {
    "ExecuteTime": {
     "end_time": "2024-12-06T15:23:41.321963900Z",
     "start_time": "2024-12-06T09:17:49.279253Z"
    }
   },
   "cell_type": "code",
   "source": "accidents_traffic_pedestrian = assign_closest_volume(accidents_traffic, pedestrian, 'pedestrian', 3, 2)",
   "id": "efa7eb7259b356",
   "outputs": [
    {
     "data": {
      "text/plain": [
       "Processing periods:   0%|          | 0/2 [00:00<?, ?it/s]"
      ],
      "application/vnd.jupyter.widget-view+json": {
       "version_major": 2,
       "version_minor": 0,
       "model_id": "928fa4bd3f204e83b75a960c739e62bf"
      }
     },
     "metadata": {},
     "output_type": "display_data"
    },
    {
     "data": {
      "text/plain": [
       "Period 0: Processing timestamps:   0%|          | 0/32701 [00:00<?, ?it/s]"
      ],
      "application/vnd.jupyter.widget-view+json": {
       "version_major": 2,
       "version_minor": 0,
       "model_id": "2f977f3af5f64ca1ac0b2961fd542aa7"
      }
     },
     "metadata": {},
     "output_type": "display_data"
    },
    {
     "data": {
      "text/plain": [
       "Period 1: Processing timestamps:   0%|          | 0/32700 [00:00<?, ?it/s]"
      ],
      "application/vnd.jupyter.widget-view+json": {
       "version_major": 2,
       "version_minor": 0,
       "model_id": "cff0d0c8b42a4c7080785f1cfa252d5f"
      }
     },
     "metadata": {},
     "output_type": "display_data"
    },
    {
     "name": "stdout",
     "output_type": "stream",
     "text": [
      "30369 values are nan and thus set to 0.\n",
      "Number of errors encountered: 0\n",
      "Execution time: 112.499400 seconds\n"
     ]
    }
   ],
   "execution_count": 10
  },
  {
   "metadata": {
    "ExecuteTime": {
     "end_time": "2024-12-06T15:23:41.321963900Z",
     "start_time": "2024-12-06T09:20:32.840481Z"
    }
   },
   "cell_type": "code",
   "source": "accidents_traffic_pedestrian.isna().sum()",
   "id": "b37f91a8afc37330",
   "outputs": [
    {
     "data": {
      "text/plain": [
       "AccidentType                    0\n",
       "AccidentSeverityCategory        0\n",
       "AccidentInvolvingPedestrian     0\n",
       "AccidentInvolvingBicycle        0\n",
       "AccidentInvolvingMotorcycle     0\n",
       "RoadType                        0\n",
       "x                               0\n",
       "y                               0\n",
       "year                            0\n",
       "month                           0\n",
       "weekday                         0\n",
       "hour                            0\n",
       "dateTime                        0\n",
       "traffic_volume_0_period_0       0\n",
       "traffic_volume_1_period_0       0\n",
       "traffic_volume_2_period_0       0\n",
       "traffic_volume_0_period_1       0\n",
       "traffic_volume_1_period_1       0\n",
       "traffic_volume_2_period_1       0\n",
       "pedestrian_volume_0_period_0    0\n",
       "pedestrian_volume_1_period_0    0\n",
       "pedestrian_volume_2_period_0    0\n",
       "pedestrian_volume_0_period_1    0\n",
       "pedestrian_volume_1_period_1    0\n",
       "pedestrian_volume_2_period_1    0\n",
       "dtype: int64"
      ]
     },
     "execution_count": 11,
     "metadata": {},
     "output_type": "execute_result"
    }
   ],
   "execution_count": 11
  },
  {
   "metadata": {
    "ExecuteTime": {
     "end_time": "2024-12-06T15:23:41.321963900Z",
     "start_time": "2024-12-06T09:21:16.190065Z"
    }
   },
   "cell_type": "code",
   "source": [
    "@timed_function\n",
    "def assign_weather(A, B, number_of_periods, features):\n",
    "\n",
    "    weather_columns = [f'{feature}_period_{period}' \n",
    "                       for period in range(number_of_periods) \n",
    "                       for feature in features]\n",
    "    \n",
    "    for col in weather_columns:\n",
    "        A[col] = np.nan\n",
    "    \n",
    "    for period in tqdm(range(number_of_periods), desc=\"Processing periods\"):\n",
    "        adjusted_timestamps = A['dateTime'] - timedelta(hours=period)\n",
    "        \n",
    "        A_temp = A.copy()\n",
    "        A_temp['adjusted_dateTime'] = adjusted_timestamps\n",
    "        \n",
    "        merged = A_temp.merge(\n",
    "            B,\n",
    "            how='left',\n",
    "            left_on='adjusted_dateTime',\n",
    "            right_on='dateTime',\n",
    "            suffixes=('', '_B')\n",
    "        )\n",
    "        \n",
    "        for feature in features:\n",
    "            col_name = f'{feature}_period_{period}'\n",
    "            A[col_name] = merged[feature].values\n",
    "    \n",
    "    if 'adjusted_dateTime' in A.columns:\n",
    "        A.drop(columns=['adjusted_dateTime'], inplace=True)\n",
    "    \n",
    "    A[weather_columns] = A[weather_columns].fillna(0)\n",
    "    \n",
    "    total_nans = A[weather_columns].isna().sum().sum()\n",
    "    print(f'{total_nans} values are nan and thus set to 0.')\n",
    "    \n",
    "    return A\n"
   ],
   "id": "ad7616263fc41d35",
   "outputs": [],
   "execution_count": 12
  },
  {
   "metadata": {
    "ExecuteTime": {
     "end_time": "2024-12-06T15:23:41.321963900Z",
     "start_time": "2024-12-06T09:21:17.064142Z"
    }
   },
   "cell_type": "code",
   "source": [
    "weather_features = ['temperature_2m', 'precipitation', 'snowfall', 'snow_depth', 'surface_pressure', 'cloud_cover']\n",
    "accidents_traffic_pedestrian_weather = assign_weather(accidents_traffic_pedestrian, weather, 4, weather_features)"
   ],
   "id": "c25d4e0b2018f1f0",
   "outputs": [
    {
     "data": {
      "text/plain": [
       "Processing periods:   0%|          | 0/4 [00:00<?, ?it/s]"
      ],
      "application/vnd.jupyter.widget-view+json": {
       "version_major": 2,
       "version_minor": 0,
       "model_id": "9539817dd5d24b5a9a5a3fd0e8ce89a2"
      }
     },
     "metadata": {},
     "output_type": "display_data"
    },
    {
     "name": "stdout",
     "output_type": "stream",
     "text": [
      "0 values are nan and thus set to 0.\n",
      "Execution time: 0.273830 seconds\n"
     ]
    }
   ],
   "execution_count": 13
  },
  {
   "metadata": {
    "ExecuteTime": {
     "end_time": "2024-12-06T15:23:41.321963900Z",
     "start_time": "2024-12-06T09:23:01.979098Z"
    }
   },
   "cell_type": "code",
   "source": "accidents_traffic_pedestrian_weather.to_csv('../data/clean/merged.csv', index=False)",
   "id": "d3e2e8072f9f9ce2",
   "outputs": [],
   "execution_count": 15
  },
  {
   "metadata": {
    "ExecuteTime": {
     "end_time": "2024-12-06T15:23:51.553864Z",
     "start_time": "2024-12-06T15:23:51.291760Z"
    }
   },
   "cell_type": "code",
   "source": "accidents_traffic_pedestrian_weather = pd.read_csv('../data/clean/merged.csv')",
   "id": "32600e7a9776a6f",
   "outputs": [],
   "execution_count": 5
  },
  {
   "metadata": {
    "ExecuteTime": {
     "end_time": "2024-12-06T15:25:03.758261Z",
     "start_time": "2024-12-06T15:25:03.746177Z"
    }
   },
   "cell_type": "code",
   "source": "accidents_traffic_pedestrian_weather.columns",
   "id": "13359cbcee2472eb",
   "outputs": [
    {
     "data": {
      "text/plain": [
       "Index(['AccidentType', 'AccidentSeverityCategory',\n",
       "       'AccidentInvolvingPedestrian', 'AccidentInvolvingBicycle',\n",
       "       'AccidentInvolvingMotorcycle', 'RoadType', 'x', 'y', 'year', 'month',\n",
       "       'weekday', 'hour', 'dateTime', 'traffic_volume_0_period_0',\n",
       "       'traffic_volume_1_period_0', 'traffic_volume_2_period_0',\n",
       "       'traffic_volume_0_period_1', 'traffic_volume_1_period_1',\n",
       "       'traffic_volume_2_period_1', 'pedestrian_volume_0_period_0',\n",
       "       'pedestrian_volume_1_period_0', 'pedestrian_volume_2_period_0',\n",
       "       'pedestrian_volume_0_period_1', 'pedestrian_volume_1_period_1',\n",
       "       'pedestrian_volume_2_period_1', 'temperature_2m_period_0',\n",
       "       'precipitation_period_0', 'snowfall_period_0', 'snow_depth_period_0',\n",
       "       'surface_pressure_period_0', 'cloud_cover_period_0',\n",
       "       'temperature_2m_period_1', 'precipitation_period_1',\n",
       "       'snowfall_period_1', 'snow_depth_period_1', 'surface_pressure_period_1',\n",
       "       'cloud_cover_period_1', 'temperature_2m_period_2',\n",
       "       'precipitation_period_2', 'snowfall_period_2', 'snow_depth_period_2',\n",
       "       'surface_pressure_period_2', 'cloud_cover_period_2',\n",
       "       'temperature_2m_period_3', 'precipitation_period_3',\n",
       "       'snowfall_period_3', 'snow_depth_period_3', 'surface_pressure_period_3',\n",
       "       'cloud_cover_period_3'],\n",
       "      dtype='object')"
      ]
     },
     "execution_count": 8,
     "metadata": {},
     "output_type": "execute_result"
    }
   ],
   "execution_count": 8
  },
  {
   "metadata": {
    "ExecuteTime": {
     "end_time": "2024-12-06T15:49:55.261374Z",
     "start_time": "2024-12-06T15:49:54.180176Z"
    }
   },
   "cell_type": "code",
   "source": "ac = pd.read_csv('../data/raw/RoadTrafficAccidentLocations.csv')",
   "id": "32492bc5abfa163d",
   "outputs": [],
   "execution_count": 9
  },
  {
   "metadata": {
    "ExecuteTime": {
     "end_time": "2024-12-06T15:54:49.047244Z",
     "start_time": "2024-12-06T15:54:49.029837Z"
    }
   },
   "cell_type": "code",
   "source": "ac.columns",
   "id": "75308cbfcb5c3c3f",
   "outputs": [
    {
     "data": {
      "text/plain": [
       "Index(['AccidentUID', 'AccidentType', 'AccidentType_de', 'AccidentType_fr',\n",
       "       'AccidentType_it', 'AccidentType_en', 'AccidentSeverityCategory',\n",
       "       'AccidentSeverityCategory_de', 'AccidentSeverityCategory_fr',\n",
       "       'AccidentSeverityCategory_it', 'AccidentSeverityCategory_en',\n",
       "       'AccidentInvolvingPedestrian', 'AccidentInvolvingBicycle',\n",
       "       'AccidentInvolvingMotorcycle', 'RoadType', 'RoadType_de', 'RoadType_fr',\n",
       "       'RoadType_it', 'RoadType_en', 'AccidentLocation_CHLV95_E',\n",
       "       'AccidentLocation_CHLV95_N', 'CantonCode', 'MunicipalityCode',\n",
       "       'AccidentYear', 'AccidentMonth', 'AccidentMonth_de', 'AccidentMonth_fr',\n",
       "       'AccidentMonth_it', 'AccidentMonth_en', 'AccidentWeekDay',\n",
       "       'AccidentWeekDay_de', 'AccidentWeekDay_fr', 'AccidentWeekDay_it',\n",
       "       'AccidentWeekDay_en', 'AccidentHour', 'AccidentHour_text'],\n",
       "      dtype='object')"
      ]
     },
     "execution_count": 16,
     "metadata": {},
     "output_type": "execute_result"
    }
   ],
   "execution_count": 16
  },
  {
   "metadata": {
    "ExecuteTime": {
     "end_time": "2024-12-06T16:04:10.939346Z",
     "start_time": "2024-12-06T16:04:10.619327Z"
    }
   },
   "cell_type": "code",
   "source": "ac[['RoadType', 'RoadType_en']].groupby('RoadType').sum()",
   "id": "21e3c89043461c1b",
   "outputs": [
    {
     "data": {
      "text/plain": [
       "                                                RoadType_en\n",
       "RoadType                                                   \n",
       "rt432     Principal roadPrincipal roadPrincipal roadPrin...\n",
       "rt433     Minor roadMinor roadMinor roadMinor roadMinor ...\n",
       "rt439     OtherOtherOtherOtherOtherOtherOtherOtherOtherO..."
      ],
      "text/html": [
       "<div>\n",
       "<style scoped>\n",
       "    .dataframe tbody tr th:only-of-type {\n",
       "        vertical-align: middle;\n",
       "    }\n",
       "\n",
       "    .dataframe tbody tr th {\n",
       "        vertical-align: top;\n",
       "    }\n",
       "\n",
       "    .dataframe thead th {\n",
       "        text-align: right;\n",
       "    }\n",
       "</style>\n",
       "<table border=\"1\" class=\"dataframe\">\n",
       "  <thead>\n",
       "    <tr style=\"text-align: right;\">\n",
       "      <th></th>\n",
       "      <th>RoadType_en</th>\n",
       "    </tr>\n",
       "    <tr>\n",
       "      <th>RoadType</th>\n",
       "      <th></th>\n",
       "    </tr>\n",
       "  </thead>\n",
       "  <tbody>\n",
       "    <tr>\n",
       "      <th>rt432</th>\n",
       "      <td>Principal roadPrincipal roadPrincipal roadPrin...</td>\n",
       "    </tr>\n",
       "    <tr>\n",
       "      <th>rt433</th>\n",
       "      <td>Minor roadMinor roadMinor roadMinor roadMinor ...</td>\n",
       "    </tr>\n",
       "    <tr>\n",
       "      <th>rt439</th>\n",
       "      <td>OtherOtherOtherOtherOtherOtherOtherOtherOtherO...</td>\n",
       "    </tr>\n",
       "  </tbody>\n",
       "</table>\n",
       "</div>"
      ]
     },
     "execution_count": 22,
     "metadata": {},
     "output_type": "execute_result"
    }
   ],
   "execution_count": 22
  },
  {
   "metadata": {
    "ExecuteTime": {
     "end_time": "2024-12-06T16:04:19.580278Z",
     "start_time": "2024-12-06T16:04:19.557358Z"
    }
   },
   "cell_type": "code",
   "source": "ac[['RoadType', 'RoadType_en']]",
   "id": "40ff786574a19310",
   "outputs": [
    {
     "data": {
      "text/plain": [
       "      RoadType     RoadType_en\n",
       "0        rt433      Minor road\n",
       "1        rt433      Minor road\n",
       "2        rt433      Minor road\n",
       "3        rt432  Principal road\n",
       "4        rt439           Other\n",
       "...        ...             ...\n",
       "61053    rt433      Minor road\n",
       "61054    rt433      Minor road\n",
       "61055    rt433      Minor road\n",
       "61056    rt433      Minor road\n",
       "61057    rt433      Minor road\n",
       "\n",
       "[61058 rows x 2 columns]"
      ],
      "text/html": [
       "<div>\n",
       "<style scoped>\n",
       "    .dataframe tbody tr th:only-of-type {\n",
       "        vertical-align: middle;\n",
       "    }\n",
       "\n",
       "    .dataframe tbody tr th {\n",
       "        vertical-align: top;\n",
       "    }\n",
       "\n",
       "    .dataframe thead th {\n",
       "        text-align: right;\n",
       "    }\n",
       "</style>\n",
       "<table border=\"1\" class=\"dataframe\">\n",
       "  <thead>\n",
       "    <tr style=\"text-align: right;\">\n",
       "      <th></th>\n",
       "      <th>RoadType</th>\n",
       "      <th>RoadType_en</th>\n",
       "    </tr>\n",
       "  </thead>\n",
       "  <tbody>\n",
       "    <tr>\n",
       "      <th>0</th>\n",
       "      <td>rt433</td>\n",
       "      <td>Minor road</td>\n",
       "    </tr>\n",
       "    <tr>\n",
       "      <th>1</th>\n",
       "      <td>rt433</td>\n",
       "      <td>Minor road</td>\n",
       "    </tr>\n",
       "    <tr>\n",
       "      <th>2</th>\n",
       "      <td>rt433</td>\n",
       "      <td>Minor road</td>\n",
       "    </tr>\n",
       "    <tr>\n",
       "      <th>3</th>\n",
       "      <td>rt432</td>\n",
       "      <td>Principal road</td>\n",
       "    </tr>\n",
       "    <tr>\n",
       "      <th>4</th>\n",
       "      <td>rt439</td>\n",
       "      <td>Other</td>\n",
       "    </tr>\n",
       "    <tr>\n",
       "      <th>...</th>\n",
       "      <td>...</td>\n",
       "      <td>...</td>\n",
       "    </tr>\n",
       "    <tr>\n",
       "      <th>61053</th>\n",
       "      <td>rt433</td>\n",
       "      <td>Minor road</td>\n",
       "    </tr>\n",
       "    <tr>\n",
       "      <th>61054</th>\n",
       "      <td>rt433</td>\n",
       "      <td>Minor road</td>\n",
       "    </tr>\n",
       "    <tr>\n",
       "      <th>61055</th>\n",
       "      <td>rt433</td>\n",
       "      <td>Minor road</td>\n",
       "    </tr>\n",
       "    <tr>\n",
       "      <th>61056</th>\n",
       "      <td>rt433</td>\n",
       "      <td>Minor road</td>\n",
       "    </tr>\n",
       "    <tr>\n",
       "      <th>61057</th>\n",
       "      <td>rt433</td>\n",
       "      <td>Minor road</td>\n",
       "    </tr>\n",
       "  </tbody>\n",
       "</table>\n",
       "<p>61058 rows × 2 columns</p>\n",
       "</div>"
      ]
     },
     "execution_count": 23,
     "metadata": {},
     "output_type": "execute_result"
    }
   ],
   "execution_count": 23
  }
 ],
 "metadata": {
  "kernelspec": {
   "display_name": "Python 3",
   "language": "python",
   "name": "python3"
  },
  "language_info": {
   "codemirror_mode": {
    "name": "ipython",
    "version": 2
   },
   "file_extension": ".py",
   "mimetype": "text/x-python",
   "name": "python",
   "nbconvert_exporter": "python",
   "pygments_lexer": "ipython2",
   "version": "2.7.6"
  }
 },
 "nbformat": 4,
 "nbformat_minor": 5
}
