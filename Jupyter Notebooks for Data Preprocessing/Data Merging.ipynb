{
 "cells": [
  {
   "metadata": {
    "ExecuteTime": {
     "end_time": "2024-12-04T22:56:54.447992Z",
     "start_time": "2024-12-04T22:56:54.386688Z"
    }
   },
   "cell_type": "code",
   "source": [
    "import numpy as np\n",
    "from scipy.spatial import cKDTree\n",
    "from tqdm.notebook import tqdm, tqdm_notebook\n",
    "from datetime import timedelta\n",
    "import pandas as pd\n",
    "import geopandas as gpd\n",
    "from shapely.geometry import Point\n",
    "from datetime import datetime, timedelta\n",
    "from tqdm.notebook import tqdm\n",
    "from concurrent.futures import ThreadPoolExecutor, as_completed\n",
    "import os\n",
    "from config import DATA_PATH\n",
    "from matplotlib import pyplot as plt\n",
    "from statsmodels.tsa.holtwinters import ExponentialSmoothing\n",
    "import numpy as np\n",
    "from sklearn.model_selection import train_test_split\n",
    "from pmdarima import auto_arima\n",
    "import seaborn as sns\n",
    "from scipy.spatial import cKDTree\n",
    "import time\n",
    "import numpy as np\n",
    "import pandas as pd\n",
    "from scipy.spatial import cKDTree\n",
    "from tqdm.notebook import tqdm\n",
    "from datetime import timedelta"
   ],
   "id": "ff09da508fa888f3",
   "outputs": [],
   "execution_count": 45
  },
  {
   "metadata": {
    "ExecuteTime": {
     "end_time": "2024-12-04T22:56:54.557377Z",
     "start_time": "2024-12-04T22:56:54.522886Z"
    }
   },
   "cell_type": "code",
   "source": "tqdm.pandas()",
   "id": "b98b489848eda5cd",
   "outputs": [],
   "execution_count": 46
  },
  {
   "metadata": {
    "ExecuteTime": {
     "end_time": "2024-12-04T22:56:54.760797Z",
     "start_time": "2024-12-04T22:56:54.752365Z"
    }
   },
   "cell_type": "code",
   "source": [
    "def timed_function(func):\n",
    "    def wrapper(*args, **kwargs):\n",
    "        start_time = time.time()  # Record the start time\n",
    "        result = func(*args, **kwargs)  # Execute the function\n",
    "        end_time = time.time()  # Record the end time\n",
    "        execution_time = end_time - start_time\n",
    "        print(f\"Execution time: {execution_time:.6f} seconds\")\n",
    "        return result\n",
    "    return wrapper"
   ],
   "id": "46505d464402668",
   "outputs": [],
   "execution_count": 47
  },
  {
   "metadata": {},
   "cell_type": "markdown",
   "source": "## Merging",
   "id": "a6ded6cb9428671f"
  },
  {
   "metadata": {
    "ExecuteTime": {
     "end_time": "2024-12-04T22:57:27.134363Z",
     "start_time": "2024-12-04T22:56:55.416041Z"
    }
   },
   "cell_type": "code",
   "source": [
    "accidents = pd.read_csv('../data/clean/accidents_clean.csv')\n",
    "traffic = pd.read_csv('../data/clean/traffic_clean.csv')\n",
    "pedestrian = pd.read_csv('../data/clean/pedestrian_clean.csv')\n",
    "weather = pd.read_csv('../data/clean/weather_clean.csv')"
   ],
   "id": "5a43b399120a195a",
   "outputs": [],
   "execution_count": 48
  },
  {
   "metadata": {
    "ExecuteTime": {
     "end_time": "2024-12-04T22:57:39.858381Z",
     "start_time": "2024-12-04T22:57:27.228403Z"
    }
   },
   "cell_type": "code",
   "source": [
    "accidents['dateTime'] = pd.to_datetime(accidents['dateTime'])\n",
    "traffic['dateTime'] = pd.to_datetime(traffic['dateTime'])\n",
    "pedestrian['dateTime'] = pd.to_datetime(pedestrian['dateTime'])\n",
    "weather['dateTime'] = pd.to_datetime(weather['dateTime'])"
   ],
   "id": "a4701d2b06f4d75f",
   "outputs": [],
   "execution_count": 49
  },
  {
   "metadata": {
    "ExecuteTime": {
     "end_time": "2024-12-04T22:57:40.005287Z",
     "start_time": "2024-12-04T22:57:39.965213Z"
    }
   },
   "cell_type": "code",
   "source": [
    "@timed_function\n",
    "def assign_closest_volume(A, B, name, number_of_stations, number_of_periods):\n",
    "    A = A.copy()\n",
    "    errors = 0\n",
    "    \n",
    "    volume_columns = [f'{name}_volume_{station}_period_{period}'\n",
    "                      for period in range(number_of_periods)\n",
    "                      for station in range(number_of_stations)]\n",
    "    for col in volume_columns:\n",
    "        A[col] = np.full(len(A), np.nan, dtype='float64')\n",
    "\n",
    "    B_grouped = B.groupby('dateTime')\n",
    "\n",
    "    for period in tqdm(range(number_of_periods), desc=\"Processing periods\"):\n",
    "        adjusted_timestamps = A['dateTime'] - pd.to_timedelta(period, unit='h')\n",
    "\n",
    "        unique_timestamps = set(adjusted_timestamps.unique())\n",
    "        valid_timestamps = unique_timestamps.intersection(B_grouped.groups.keys())\n",
    "\n",
    "        if len(valid_timestamps) == 0:\n",
    "            errors += 1\n",
    "            continue\n",
    "\n",
    "        timestamp_to_indices = adjusted_timestamps.groupby(adjusted_timestamps).groups\n",
    "\n",
    "        for timestamp in tqdm(valid_timestamps, desc=f\"Period {period}: Processing timestamps\", leave=False):\n",
    "            idxs = timestamp_to_indices.get(timestamp, [])\n",
    "            \n",
    "            B_filtered = B_grouped.get_group(timestamp)\n",
    "            if B_filtered.empty:\n",
    "                errors += 1\n",
    "                continue  \n",
    "\n",
    "            kd_tree = cKDTree(B_filtered[['x', 'y']].values)\n",
    "\n",
    "            points = A.loc[idxs, ['x', 'y']].values\n",
    "\n",
    "            distances, indices = kd_tree.query(points, k=number_of_stations)\n",
    "\n",
    "            if indices.ndim == 1:\n",
    "                indices = indices[:, np.newaxis]\n",
    "\n",
    "            volumes = B_filtered['volume'].values[indices]\n",
    "\n",
    "            for station in range(number_of_stations):\n",
    "                col_name = f'{name}_volume_{station}_period_{period}'\n",
    "                A.loc[idxs, col_name] = volumes[:, station]\n",
    "\n",
    "    print(f'{A.isna().sum().sum()} values are nan and thus set to 0.')\n",
    "    A[volume_columns] = A[volume_columns].fillna(0)\n",
    "    print(f'Number of errors encountered: {errors}')\n",
    "\n",
    "    return A"
   ],
   "id": "ece49b903147c9e8",
   "outputs": [],
   "execution_count": 51
  },
  {
   "metadata": {
    "ExecuteTime": {
     "end_time": "2024-12-04T22:59:45.599507Z",
     "start_time": "2024-12-04T22:57:40.172021Z"
    }
   },
   "cell_type": "code",
   "source": "accidents_traffic = assign_closest_volume(accidents, traffic, 'traffic', 3, 2)",
   "id": "980935dcc58c85d9",
   "outputs": [
    {
     "data": {
      "text/plain": [
       "Processing periods:   0%|          | 0/2 [00:00<?, ?it/s]"
      ],
      "application/vnd.jupyter.widget-view+json": {
       "version_major": 2,
       "version_minor": 0,
       "model_id": "a2f8fc67070a4a27bc5ed8430c0257ed"
      }
     },
     "metadata": {},
     "output_type": "display_data"
    },
    {
     "data": {
      "text/plain": [
       "Period 0: Processing timestamps:   0%|          | 0/35750 [00:00<?, ?it/s]"
      ],
      "application/vnd.jupyter.widget-view+json": {
       "version_major": 2,
       "version_minor": 0,
       "model_id": "790a9c8a7e7c423185ad7a853d9e2fac"
      }
     },
     "metadata": {},
     "output_type": "display_data"
    },
    {
     "data": {
      "text/plain": [
       "Period 1: Processing timestamps:   0%|          | 0/35748 [00:00<?, ?it/s]"
      ],
      "application/vnd.jupyter.widget-view+json": {
       "version_major": 2,
       "version_minor": 0,
       "model_id": "e84453dd880a478a9abc397a1f673586"
      }
     },
     "metadata": {},
     "output_type": "display_data"
    },
    {
     "name": "stdout",
     "output_type": "stream",
     "text": [
      "12 values are nan and thus set to 0.\n",
      "Number of errors encountered: 0\n",
      "Execution time: 125.423902 seconds\n"
     ]
    }
   ],
   "execution_count": 52
  },
  {
   "metadata": {
    "ExecuteTime": {
     "end_time": "2024-12-04T23:20:40.130689Z",
     "start_time": "2024-12-04T23:18:46.058559Z"
    }
   },
   "cell_type": "code",
   "source": "accidents_traffic_pedestrian = assign_closest_volume(accidents_traffic, pedestrian, 'pedestrian', 3, 2)",
   "id": "efa7eb7259b356",
   "outputs": [
    {
     "data": {
      "text/plain": [
       "Processing periods:   0%|          | 0/2 [00:00<?, ?it/s]"
      ],
      "application/vnd.jupyter.widget-view+json": {
       "version_major": 2,
       "version_minor": 0,
       "model_id": "5a66b3e9bc91430a9205c421c94a93d9"
      }
     },
     "metadata": {},
     "output_type": "display_data"
    },
    {
     "data": {
      "text/plain": [
       "Period 0: Processing timestamps:   0%|          | 0/32701 [00:00<?, ?it/s]"
      ],
      "application/vnd.jupyter.widget-view+json": {
       "version_major": 2,
       "version_minor": 0,
       "model_id": "aa4e390a94da448bad44642a69f1ddbc"
      }
     },
     "metadata": {},
     "output_type": "display_data"
    },
    {
     "data": {
      "text/plain": [
       "Period 1: Processing timestamps:   0%|          | 0/32700 [00:00<?, ?it/s]"
      ],
      "application/vnd.jupyter.widget-view+json": {
       "version_major": 2,
       "version_minor": 0,
       "model_id": "075aae8e78e6499cb5187af3a41c45c5"
      }
     },
     "metadata": {},
     "output_type": "display_data"
    },
    {
     "name": "stdout",
     "output_type": "stream",
     "text": [
      "30381 values are nan and thus set to 0.\n",
      "Number of errors encountered: 0\n",
      "Execution time: 114.063188 seconds\n"
     ]
    }
   ],
   "execution_count": 59
  },
  {
   "metadata": {
    "ExecuteTime": {
     "end_time": "2024-12-04T23:20:40.247777Z",
     "start_time": "2024-12-04T23:20:40.228671Z"
    }
   },
   "cell_type": "code",
   "source": [
    "@timed_function\n",
    "def assign_weather(A, B, number_of_periods, features):\n",
    "\n",
    "    weather_columns = [f'{feature}_period_{period}' \n",
    "                       for period in range(number_of_periods) \n",
    "                       for feature in features]\n",
    "    \n",
    "    for col in weather_columns:\n",
    "        A[col] = np.nan\n",
    "    \n",
    "    for period in tqdm(range(number_of_periods), desc=\"Processing periods\"):\n",
    "        adjusted_timestamps = A['dateTime'] - timedelta(hours=period)\n",
    "        \n",
    "        A_temp = A.copy()\n",
    "        A_temp['adjusted_dateTime'] = adjusted_timestamps\n",
    "        \n",
    "        merged = A_temp.merge(\n",
    "            B,\n",
    "            how='left',\n",
    "            left_on='adjusted_dateTime',\n",
    "            right_on='dateTime',\n",
    "            suffixes=('', '_B')\n",
    "        )\n",
    "        \n",
    "        for feature in features:\n",
    "            col_name = f'{feature}_period_{period}'\n",
    "            A[col_name] = merged[feature].values\n",
    "    \n",
    "    if 'adjusted_dateTime' in A.columns:\n",
    "        A.drop(columns=['adjusted_dateTime'], inplace=True)\n",
    "    \n",
    "    A[weather_columns] = A[weather_columns].fillna(0)\n",
    "    \n",
    "    total_nans = A[weather_columns].isna().sum().sum()\n",
    "    print(f'{total_nans} values are nan and thus set to 0.')\n",
    "    \n",
    "    return A\n"
   ],
   "id": "ad7616263fc41d35",
   "outputs": [],
   "execution_count": 60
  },
  {
   "metadata": {
    "ExecuteTime": {
     "end_time": "2024-12-04T23:20:40.558808Z",
     "start_time": "2024-12-04T23:20:40.301550Z"
    }
   },
   "cell_type": "code",
   "source": [
    "weather_features = ['temperature_2m', 'precipitation', 'snowfall', 'snow_depth', 'surface_pressure', 'cloud_cover']\n",
    "accidents_traffic_pedestrian_weather = assign_weather(accidents_traffic_pedestrian, weather, 4, weather_features)"
   ],
   "id": "c25d4e0b2018f1f0",
   "outputs": [
    {
     "data": {
      "text/plain": [
       "Processing periods:   0%|          | 0/4 [00:00<?, ?it/s]"
      ],
      "application/vnd.jupyter.widget-view+json": {
       "version_major": 2,
       "version_minor": 0,
       "model_id": "74de0fb082a54effb783e29df59b60ac"
      }
     },
     "metadata": {},
     "output_type": "display_data"
    },
    {
     "name": "stdout",
     "output_type": "stream",
     "text": [
      "0 values are nan and thus set to 0.\n",
      "Execution time: 0.250718 seconds\n"
     ]
    }
   ],
   "execution_count": 61
  },
  {
   "metadata": {
    "ExecuteTime": {
     "end_time": "2024-12-04T23:24:21.229076Z",
     "start_time": "2024-12-04T23:24:19.728196Z"
    }
   },
   "cell_type": "code",
   "source": "accidents_traffic_pedestrian_weather.to_csv('../data/clean/merged.csv', index=False)",
   "id": "d3e2e8072f9f9ce2",
   "outputs": [],
   "execution_count": 64
  }
 ],
 "metadata": {
  "kernelspec": {
   "display_name": "Python 3",
   "language": "python",
   "name": "python3"
  },
  "language_info": {
   "codemirror_mode": {
    "name": "ipython",
    "version": 2
   },
   "file_extension": ".py",
   "mimetype": "text/x-python",
   "name": "python",
   "nbconvert_exporter": "python",
   "pygments_lexer": "ipython2",
   "version": "2.7.6"
  }
 },
 "nbformat": 4,
 "nbformat_minor": 5
}
