{
 "cells": [
  {
   "metadata": {
    "ExecuteTime": {
     "end_time": "2024-12-08T13:04:00.614914Z",
     "start_time": "2024-12-08T13:04:00.511255Z"
    }
   },
   "cell_type": "code",
   "source": [
    "import pandas as pd\n",
    "import numpy as np\n",
    "from joblib import dump\n",
    "from sklearn.pipeline import Pipeline\n",
    "from sklearn.compose import ColumnTransformer\n",
    "from sklearn.impute import SimpleImputer\n",
    "from sklearn.preprocessing import OneHotEncoder, StandardScaler\n",
    "from sklearn.model_selection import train_test_split\n",
    "from modules.utils import convert_lv95_to_wgs84"
   ],
   "id": "b0759e6d4f0a7c84",
   "outputs": [],
   "execution_count": 17
  },
  {
   "metadata": {
    "ExecuteTime": {
     "end_time": "2024-12-08T13:04:02.036372Z",
     "start_time": "2024-12-08T13:04:00.968601Z"
    }
   },
   "cell_type": "code",
   "source": "accidents = pd.read_csv('../data/clean/merged.csv')",
   "id": "b19cc16391b556b6",
   "outputs": [],
   "execution_count": 18
  },
  {
   "metadata": {
    "ExecuteTime": {
     "end_time": "2024-12-08T13:04:02.258116Z",
     "start_time": "2024-12-08T13:04:02.224273Z"
    }
   },
   "cell_type": "code",
   "source": "accidents['AccidentSeverityCategory'].value_counts()",
   "id": "4a5ab0c8517783bb",
   "outputs": [
    {
     "data": {
      "text/plain": [
       "AccidentSeverityCategory\n",
       "as4    43036\n",
       "as3    12128\n",
       "as2     2341\n",
       "as1       74\n",
       "Name: count, dtype: int64"
      ]
     },
     "execution_count": 19,
     "metadata": {},
     "output_type": "execute_result"
    }
   ],
   "execution_count": 19
  },
  {
   "metadata": {
    "ExecuteTime": {
     "end_time": "2024-12-08T13:04:02.810841Z",
     "start_time": "2024-12-08T13:04:02.392260Z"
    }
   },
   "cell_type": "code",
   "source": [
    "locations = accidents[['x', 'y', 'RoadType']]\n",
    "locations = convert_lv95_to_wgs84(locations)\n",
    "locations.to_csv('../data/inference/locations.csv', index=False)"
   ],
   "id": "7bf0baba166eadff",
   "outputs": [
    {
     "name": "stderr",
     "output_type": "stream",
     "text": [
      "2024-12-08 14:04:02.407 Thread 'MainThread': missing ScriptRunContext! This warning can be ignored when running in bare mode.\n",
      "2024-12-08 14:04:02.407 Thread 'MainThread': missing ScriptRunContext! This warning can be ignored when running in bare mode.\n",
      "2024-12-08 14:04:02.407 Thread 'MainThread': missing ScriptRunContext! This warning can be ignored when running in bare mode.\n",
      "2024-12-08 14:04:02.546 Thread 'MainThread': missing ScriptRunContext! This warning can be ignored when running in bare mode.\n",
      "2024-12-08 14:04:02.546 Thread 'MainThread': missing ScriptRunContext! This warning can be ignored when running in bare mode.\n"
     ]
    }
   ],
   "execution_count": 20
  },
  {
   "metadata": {
    "ExecuteTime": {
     "end_time": "2024-12-07T18:57:56.191650Z",
     "start_time": "2024-12-07T18:57:56.124609Z"
    }
   },
   "cell_type": "code",
   "source": [
    "drop_features = ['x', 'y', 'year', 'dateTime', 'AccidentSeverityCategory']\n",
    "\n",
    "X = accidents.drop(columns=drop_features, axis=1)\n",
    "y = accidents['AccidentSeverityCategory']\n",
    "\n",
    "rs = 1\n",
    "\n",
    "X_train, X_test, y_train, y_test = train_test_split(\n",
    "    X, y, test_size=0.2, random_state=rs, stratify=y)"
   ],
   "id": "9d20842f557784d7",
   "outputs": [],
   "execution_count": 19
  },
  {
   "metadata": {
    "ExecuteTime": {
     "end_time": "2024-12-07T18:57:56.303541Z",
     "start_time": "2024-12-07T18:57:56.296536Z"
    }
   },
   "cell_type": "code",
   "source": "X_train.columns",
   "id": "87d81e7e0728bef9",
   "outputs": [
    {
     "data": {
      "text/plain": [
       "Index(['AccidentType', 'AccidentInvolvingPedestrian',\n",
       "       'AccidentInvolvingBicycle', 'AccidentInvolvingMotorcycle', 'RoadType',\n",
       "       'month', 'weekday', 'hour', 'traffic_volume_0_period_0',\n",
       "       'traffic_volume_1_period_0', 'traffic_volume_2_period_0',\n",
       "       'traffic_volume_0_period_1', 'traffic_volume_1_period_1',\n",
       "       'traffic_volume_2_period_1', 'pedestrian_volume_0_period_0',\n",
       "       'pedestrian_volume_1_period_0', 'pedestrian_volume_2_period_0',\n",
       "       'pedestrian_volume_0_period_1', 'pedestrian_volume_1_period_1',\n",
       "       'pedestrian_volume_2_period_1', 'temperature_2m_period_0',\n",
       "       'precipitation_period_0', 'snowfall_period_0', 'snow_depth_period_0',\n",
       "       'surface_pressure_period_0', 'cloud_cover_period_0',\n",
       "       'temperature_2m_period_1', 'precipitation_period_1',\n",
       "       'snowfall_period_1', 'snow_depth_period_1', 'surface_pressure_period_1',\n",
       "       'cloud_cover_period_1', 'temperature_2m_period_2',\n",
       "       'precipitation_period_2', 'snowfall_period_2', 'snow_depth_period_2',\n",
       "       'surface_pressure_period_2', 'cloud_cover_period_2',\n",
       "       'temperature_2m_period_3', 'precipitation_period_3',\n",
       "       'snowfall_period_3', 'snow_depth_period_3', 'surface_pressure_period_3',\n",
       "       'cloud_cover_period_3'],\n",
       "      dtype='object')"
      ]
     },
     "execution_count": 20,
     "metadata": {},
     "output_type": "execute_result"
    }
   ],
   "execution_count": 20
  },
  {
   "metadata": {
    "ExecuteTime": {
     "end_time": "2024-12-07T18:57:57.536261Z",
     "start_time": "2024-12-07T18:57:57.527051Z"
    }
   },
   "cell_type": "code",
   "source": [
    "numerical_features = ['traffic_volume_0_period_0',\n",
    "       'traffic_volume_1_period_0', 'traffic_volume_2_period_0',\n",
    "       'traffic_volume_0_period_1', 'traffic_volume_1_period_1',\n",
    "       'traffic_volume_2_period_1', 'pedestrian_volume_0_period_0',\n",
    "       'pedestrian_volume_1_period_0', 'pedestrian_volume_2_period_0',\n",
    "       'pedestrian_volume_0_period_1', 'pedestrian_volume_1_period_1',\n",
    "       'pedestrian_volume_2_period_1', 'temperature_2m_period_0',\n",
    "       'precipitation_period_0', 'snowfall_period_0', 'snow_depth_period_0',\n",
    "       'surface_pressure_period_0', 'cloud_cover_period_0',\n",
    "       'temperature_2m_period_1', 'precipitation_period_1',\n",
    "       'snowfall_period_1', 'snow_depth_period_1', 'surface_pressure_period_1',\n",
    "       'cloud_cover_period_1', 'temperature_2m_period_2',\n",
    "       'precipitation_period_2', 'snowfall_period_2', 'snow_depth_period_2',\n",
    "       'surface_pressure_period_2', 'cloud_cover_period_2',\n",
    "       'temperature_2m_period_3', 'precipitation_period_3',\n",
    "       'snowfall_period_3', 'snow_depth_period_3', 'surface_pressure_period_3',\n",
    "       'cloud_cover_period_3']\n",
    "\n",
    "categorical_features = ['AccidentType', 'AccidentInvolvingPedestrian', 'AccidentInvolvingBicycle',\n",
    "       'AccidentInvolvingMotorcycle', 'RoadType', 'month',\n",
    "       'weekday', 'hour']"
   ],
   "id": "e09fa08b24bad69d",
   "outputs": [],
   "execution_count": 21
  },
  {
   "metadata": {
    "ExecuteTime": {
     "end_time": "2024-12-07T18:57:58.072379Z",
     "start_time": "2024-12-07T18:57:58.060586Z"
    }
   },
   "cell_type": "code",
   "source": [
    "numerical_pipeline = Pipeline(steps=[   \n",
    "    ('scaler', StandardScaler())                          # Scale features\n",
    "])\n",
    "\n",
    "categorical_pipeline = Pipeline(steps=[\n",
    "    ('onehot', OneHotEncoder(handle_unknown='ignore'))    # Encode categorical variables\n",
    "])\n",
    "\n",
    "preprocessor = ColumnTransformer(\n",
    "    transformers=[\n",
    "        ('num', numerical_pipeline, numerical_features),\n",
    "        ('cat', categorical_pipeline, categorical_features)\n",
    "    ])"
   ],
   "id": "dd8ae3bb2eff1c04",
   "outputs": [],
   "execution_count": 22
  },
  {
   "metadata": {
    "ExecuteTime": {
     "end_time": "2024-12-07T18:57:58.824200Z",
     "start_time": "2024-12-07T18:57:58.655993Z"
    }
   },
   "cell_type": "code",
   "source": [
    "X_train = preprocessor.fit_transform(X_train)\n",
    "X_test = preprocessor.transform(X_test)\n",
    "\n",
    "dump(preprocessor, '../data/inference/preprocessor.pkl')"
   ],
   "id": "b974a1f5846cd556",
   "outputs": [
    {
     "data": {
      "text/plain": [
       "['../data/inference/preprocessor.pkl']"
      ]
     },
     "execution_count": 23,
     "metadata": {},
     "output_type": "execute_result"
    }
   ],
   "execution_count": 23
  },
  {
   "metadata": {
    "ExecuteTime": {
     "end_time": "2024-12-06T09:32:22.040049Z",
     "start_time": "2024-12-06T09:32:22.029568Z"
    }
   },
   "cell_type": "code",
   "source": [
    "cat_onehot_features = preprocessor.named_transformers_['cat']\\\n",
    "    .named_steps['onehot'].get_feature_names_out(categorical_features)\n",
    "\n",
    "processed_features = numerical_features + list(cat_onehot_features)\n",
    "\n",
    "X_train = pd.DataFrame(X_train, columns=processed_features)\n",
    "X_test = pd.DataFrame(X_test, columns=processed_features)"
   ],
   "id": "1324e7f261ccc68f",
   "outputs": [],
   "execution_count": 33
  },
  {
   "metadata": {
    "ExecuteTime": {
     "end_time": "2024-12-06T09:32:22.742291Z",
     "start_time": "2024-12-06T09:32:22.721638Z"
    }
   },
   "cell_type": "code",
   "source": [
    "y_train = (y_train != 'as4').astype(int)\n",
    "y_test = (y_test != 'as4').astype(int)"
   ],
   "id": "5f6fd142b596912c",
   "outputs": [],
   "execution_count": 34
  },
  {
   "metadata": {
    "ExecuteTime": {
     "end_time": "2024-12-06T09:32:26.582231Z",
     "start_time": "2024-12-06T09:32:22.940081Z"
    }
   },
   "cell_type": "code",
   "source": [
    "X_test.to_csv(\"../data/training/X_test.csv\", index=False)\n",
    "X_train.to_csv(\"../data/training/X_train.csv\", index=False)"
   ],
   "id": "cf9a80b3f09a85e7",
   "outputs": [],
   "execution_count": 35
  },
  {
   "metadata": {
    "ExecuteTime": {
     "end_time": "2024-12-06T09:32:26.606710Z",
     "start_time": "2024-12-06T09:32:26.587238Z"
    }
   },
   "cell_type": "code",
   "source": [
    "\n",
    "y_test.to_csv(\"../data/training/y_test.csv\", index=False)\n",
    "y_train.to_csv(\"../data/training/y_train.csv\", index=False)"
   ],
   "id": "d485811a035bee16",
   "outputs": [],
   "execution_count": 36
  },
  {
   "metadata": {
    "ExecuteTime": {
     "end_time": "2024-12-06T09:32:26.699796Z",
     "start_time": "2024-12-06T09:32:26.666763Z"
    }
   },
   "cell_type": "code",
   "source": "X_train",
   "id": "f82786ab70e4943e",
   "outputs": [
    {
     "data": {
      "text/plain": [
       "       traffic_volume_0_period_0  traffic_volume_1_period_0  \\\n",
       "0                      -0.343188                  -0.259128   \n",
       "1                       0.409243                  -0.141882   \n",
       "2                       1.356221                   1.177136   \n",
       "3                      -0.741547                  -0.732997   \n",
       "4                      -0.659526                   0.060856   \n",
       "...                          ...                        ...   \n",
       "46058                   0.516119                  -0.034406   \n",
       "46059                   1.768815                   1.949006   \n",
       "46060                  -1.218765                  -1.226408   \n",
       "46061                  -0.110229                   0.446791   \n",
       "46062                  -0.244446                  -0.449653   \n",
       "\n",
       "       traffic_volume_2_period_0  traffic_volume_0_period_1  \\\n",
       "0                      -0.527920                  -0.110299   \n",
       "1                       0.324138                   0.220024   \n",
       "2                      -0.973373                  -0.521110   \n",
       "3                      -0.489072                  -0.725046   \n",
       "4                       0.010767                  -1.016028   \n",
       "...                          ...                        ...   \n",
       "46058                   0.583122                   0.391628   \n",
       "46059                   0.210185                   1.814207   \n",
       "46060                  -1.076967                  -1.219964   \n",
       "46061                  -1.035529                  -0.123186   \n",
       "46062                  -0.486482                   0.239920   \n",
       "\n",
       "       traffic_volume_1_period_1  traffic_volume_2_period_1  \\\n",
       "0                       0.170852                  -0.081870   \n",
       "1                      -0.091723                   0.021292   \n",
       "2                      -0.647451                  -1.170223   \n",
       "3                      -0.752259                  -0.396512   \n",
       "4                      -0.798570                  -0.902003   \n",
       "...                          ...                        ...   \n",
       "46058                  -0.103910                   0.508729   \n",
       "46059                   1.819202                   0.225036   \n",
       "46060                  -1.225116                  -1.175381   \n",
       "46061                   0.666310                  -0.984532   \n",
       "46062                  -0.250154                  -0.166978   \n",
       "\n",
       "       pedestrian_volume_0_period_0  pedestrian_volume_1_period_0  \\\n",
       "0                          0.150599                      0.209563   \n",
       "1                          0.635557                     -0.670434   \n",
       "2                         -0.676681                     -0.720720   \n",
       "3                          0.065019                     -0.695577   \n",
       "4                         -0.676681                     -0.720720   \n",
       "...                             ...                           ...   \n",
       "46058                      0.435869                     -0.419006   \n",
       "46059                      0.350288                      0.008421   \n",
       "46060                     -0.676681                     -0.720720   \n",
       "46061                     -0.305831                     -0.670434   \n",
       "46062                     -0.419939                     -0.569863   \n",
       "\n",
       "       pedestrian_volume_2_period_0  pedestrian_volume_0_period_1  ...  \\\n",
       "0                          0.466944                     -0.279617  ...   \n",
       "1                          0.151812                      1.089513  ...   \n",
       "2                         -0.714800                     -0.666545  ...   \n",
       "3                          2.095124                     -0.368908  ...   \n",
       "4                         -0.714800                     -0.666545  ...   \n",
       "...                             ...                           ...  ...   \n",
       "46058                     -0.609756                      0.821640  ...   \n",
       "46059                     -0.058275                     -0.041508  ...   \n",
       "46060                     -0.609756                     -0.666545  ...   \n",
       "46061                     -0.688539                     -0.577254  ...   \n",
       "46062                     -0.452190                     -0.339145  ...   \n",
       "\n",
       "       hour_14  hour_15  hour_16  hour_17  hour_18  hour_19  hour_20  hour_21  \\\n",
       "0          0.0      0.0      0.0      0.0      0.0      1.0      0.0      0.0   \n",
       "1          0.0      1.0      0.0      0.0      0.0      0.0      0.0      0.0   \n",
       "2          0.0      0.0      0.0      0.0      0.0      0.0      0.0      0.0   \n",
       "3          0.0      0.0      0.0      0.0      0.0      0.0      0.0      0.0   \n",
       "4          0.0      0.0      0.0      0.0      0.0      0.0      0.0      0.0   \n",
       "...        ...      ...      ...      ...      ...      ...      ...      ...   \n",
       "46058      0.0      0.0      1.0      0.0      0.0      0.0      0.0      0.0   \n",
       "46059      1.0      0.0      0.0      0.0      0.0      0.0      0.0      0.0   \n",
       "46060      0.0      0.0      0.0      0.0      0.0      0.0      0.0      0.0   \n",
       "46061      0.0      0.0      0.0      0.0      0.0      0.0      0.0      0.0   \n",
       "46062      0.0      0.0      0.0      0.0      0.0      0.0      0.0      0.0   \n",
       "\n",
       "       hour_22  hour_23  \n",
       "0          0.0      0.0  \n",
       "1          0.0      0.0  \n",
       "2          0.0      0.0  \n",
       "3          0.0      0.0  \n",
       "4          0.0      0.0  \n",
       "...        ...      ...  \n",
       "46058      0.0      0.0  \n",
       "46059      0.0      0.0  \n",
       "46060      0.0      0.0  \n",
       "46061      0.0      0.0  \n",
       "46062      0.0      1.0  \n",
       "\n",
       "[46063 rows x 99 columns]"
      ],
      "text/html": [
       "<div>\n",
       "<style scoped>\n",
       "    .dataframe tbody tr th:only-of-type {\n",
       "        vertical-align: middle;\n",
       "    }\n",
       "\n",
       "    .dataframe tbody tr th {\n",
       "        vertical-align: top;\n",
       "    }\n",
       "\n",
       "    .dataframe thead th {\n",
       "        text-align: right;\n",
       "    }\n",
       "</style>\n",
       "<table border=\"1\" class=\"dataframe\">\n",
       "  <thead>\n",
       "    <tr style=\"text-align: right;\">\n",
       "      <th></th>\n",
       "      <th>traffic_volume_0_period_0</th>\n",
       "      <th>traffic_volume_1_period_0</th>\n",
       "      <th>traffic_volume_2_period_0</th>\n",
       "      <th>traffic_volume_0_period_1</th>\n",
       "      <th>traffic_volume_1_period_1</th>\n",
       "      <th>traffic_volume_2_period_1</th>\n",
       "      <th>pedestrian_volume_0_period_0</th>\n",
       "      <th>pedestrian_volume_1_period_0</th>\n",
       "      <th>pedestrian_volume_2_period_0</th>\n",
       "      <th>pedestrian_volume_0_period_1</th>\n",
       "      <th>...</th>\n",
       "      <th>hour_14</th>\n",
       "      <th>hour_15</th>\n",
       "      <th>hour_16</th>\n",
       "      <th>hour_17</th>\n",
       "      <th>hour_18</th>\n",
       "      <th>hour_19</th>\n",
       "      <th>hour_20</th>\n",
       "      <th>hour_21</th>\n",
       "      <th>hour_22</th>\n",
       "      <th>hour_23</th>\n",
       "    </tr>\n",
       "  </thead>\n",
       "  <tbody>\n",
       "    <tr>\n",
       "      <th>0</th>\n",
       "      <td>-0.343188</td>\n",
       "      <td>-0.259128</td>\n",
       "      <td>-0.527920</td>\n",
       "      <td>-0.110299</td>\n",
       "      <td>0.170852</td>\n",
       "      <td>-0.081870</td>\n",
       "      <td>0.150599</td>\n",
       "      <td>0.209563</td>\n",
       "      <td>0.466944</td>\n",
       "      <td>-0.279617</td>\n",
       "      <td>...</td>\n",
       "      <td>0.0</td>\n",
       "      <td>0.0</td>\n",
       "      <td>0.0</td>\n",
       "      <td>0.0</td>\n",
       "      <td>0.0</td>\n",
       "      <td>1.0</td>\n",
       "      <td>0.0</td>\n",
       "      <td>0.0</td>\n",
       "      <td>0.0</td>\n",
       "      <td>0.0</td>\n",
       "    </tr>\n",
       "    <tr>\n",
       "      <th>1</th>\n",
       "      <td>0.409243</td>\n",
       "      <td>-0.141882</td>\n",
       "      <td>0.324138</td>\n",
       "      <td>0.220024</td>\n",
       "      <td>-0.091723</td>\n",
       "      <td>0.021292</td>\n",
       "      <td>0.635557</td>\n",
       "      <td>-0.670434</td>\n",
       "      <td>0.151812</td>\n",
       "      <td>1.089513</td>\n",
       "      <td>...</td>\n",
       "      <td>0.0</td>\n",
       "      <td>1.0</td>\n",
       "      <td>0.0</td>\n",
       "      <td>0.0</td>\n",
       "      <td>0.0</td>\n",
       "      <td>0.0</td>\n",
       "      <td>0.0</td>\n",
       "      <td>0.0</td>\n",
       "      <td>0.0</td>\n",
       "      <td>0.0</td>\n",
       "    </tr>\n",
       "    <tr>\n",
       "      <th>2</th>\n",
       "      <td>1.356221</td>\n",
       "      <td>1.177136</td>\n",
       "      <td>-0.973373</td>\n",
       "      <td>-0.521110</td>\n",
       "      <td>-0.647451</td>\n",
       "      <td>-1.170223</td>\n",
       "      <td>-0.676681</td>\n",
       "      <td>-0.720720</td>\n",
       "      <td>-0.714800</td>\n",
       "      <td>-0.666545</td>\n",
       "      <td>...</td>\n",
       "      <td>0.0</td>\n",
       "      <td>0.0</td>\n",
       "      <td>0.0</td>\n",
       "      <td>0.0</td>\n",
       "      <td>0.0</td>\n",
       "      <td>0.0</td>\n",
       "      <td>0.0</td>\n",
       "      <td>0.0</td>\n",
       "      <td>0.0</td>\n",
       "      <td>0.0</td>\n",
       "    </tr>\n",
       "    <tr>\n",
       "      <th>3</th>\n",
       "      <td>-0.741547</td>\n",
       "      <td>-0.732997</td>\n",
       "      <td>-0.489072</td>\n",
       "      <td>-0.725046</td>\n",
       "      <td>-0.752259</td>\n",
       "      <td>-0.396512</td>\n",
       "      <td>0.065019</td>\n",
       "      <td>-0.695577</td>\n",
       "      <td>2.095124</td>\n",
       "      <td>-0.368908</td>\n",
       "      <td>...</td>\n",
       "      <td>0.0</td>\n",
       "      <td>0.0</td>\n",
       "      <td>0.0</td>\n",
       "      <td>0.0</td>\n",
       "      <td>0.0</td>\n",
       "      <td>0.0</td>\n",
       "      <td>0.0</td>\n",
       "      <td>0.0</td>\n",
       "      <td>0.0</td>\n",
       "      <td>0.0</td>\n",
       "    </tr>\n",
       "    <tr>\n",
       "      <th>4</th>\n",
       "      <td>-0.659526</td>\n",
       "      <td>0.060856</td>\n",
       "      <td>0.010767</td>\n",
       "      <td>-1.016028</td>\n",
       "      <td>-0.798570</td>\n",
       "      <td>-0.902003</td>\n",
       "      <td>-0.676681</td>\n",
       "      <td>-0.720720</td>\n",
       "      <td>-0.714800</td>\n",
       "      <td>-0.666545</td>\n",
       "      <td>...</td>\n",
       "      <td>0.0</td>\n",
       "      <td>0.0</td>\n",
       "      <td>0.0</td>\n",
       "      <td>0.0</td>\n",
       "      <td>0.0</td>\n",
       "      <td>0.0</td>\n",
       "      <td>0.0</td>\n",
       "      <td>0.0</td>\n",
       "      <td>0.0</td>\n",
       "      <td>0.0</td>\n",
       "    </tr>\n",
       "    <tr>\n",
       "      <th>...</th>\n",
       "      <td>...</td>\n",
       "      <td>...</td>\n",
       "      <td>...</td>\n",
       "      <td>...</td>\n",
       "      <td>...</td>\n",
       "      <td>...</td>\n",
       "      <td>...</td>\n",
       "      <td>...</td>\n",
       "      <td>...</td>\n",
       "      <td>...</td>\n",
       "      <td>...</td>\n",
       "      <td>...</td>\n",
       "      <td>...</td>\n",
       "      <td>...</td>\n",
       "      <td>...</td>\n",
       "      <td>...</td>\n",
       "      <td>...</td>\n",
       "      <td>...</td>\n",
       "      <td>...</td>\n",
       "      <td>...</td>\n",
       "      <td>...</td>\n",
       "    </tr>\n",
       "    <tr>\n",
       "      <th>46058</th>\n",
       "      <td>0.516119</td>\n",
       "      <td>-0.034406</td>\n",
       "      <td>0.583122</td>\n",
       "      <td>0.391628</td>\n",
       "      <td>-0.103910</td>\n",
       "      <td>0.508729</td>\n",
       "      <td>0.435869</td>\n",
       "      <td>-0.419006</td>\n",
       "      <td>-0.609756</td>\n",
       "      <td>0.821640</td>\n",
       "      <td>...</td>\n",
       "      <td>0.0</td>\n",
       "      <td>0.0</td>\n",
       "      <td>1.0</td>\n",
       "      <td>0.0</td>\n",
       "      <td>0.0</td>\n",
       "      <td>0.0</td>\n",
       "      <td>0.0</td>\n",
       "      <td>0.0</td>\n",
       "      <td>0.0</td>\n",
       "      <td>0.0</td>\n",
       "    </tr>\n",
       "    <tr>\n",
       "      <th>46059</th>\n",
       "      <td>1.768815</td>\n",
       "      <td>1.949006</td>\n",
       "      <td>0.210185</td>\n",
       "      <td>1.814207</td>\n",
       "      <td>1.819202</td>\n",
       "      <td>0.225036</td>\n",
       "      <td>0.350288</td>\n",
       "      <td>0.008421</td>\n",
       "      <td>-0.058275</td>\n",
       "      <td>-0.041508</td>\n",
       "      <td>...</td>\n",
       "      <td>1.0</td>\n",
       "      <td>0.0</td>\n",
       "      <td>0.0</td>\n",
       "      <td>0.0</td>\n",
       "      <td>0.0</td>\n",
       "      <td>0.0</td>\n",
       "      <td>0.0</td>\n",
       "      <td>0.0</td>\n",
       "      <td>0.0</td>\n",
       "      <td>0.0</td>\n",
       "    </tr>\n",
       "    <tr>\n",
       "      <th>46060</th>\n",
       "      <td>-1.218765</td>\n",
       "      <td>-1.226408</td>\n",
       "      <td>-1.076967</td>\n",
       "      <td>-1.219964</td>\n",
       "      <td>-1.225116</td>\n",
       "      <td>-1.175381</td>\n",
       "      <td>-0.676681</td>\n",
       "      <td>-0.720720</td>\n",
       "      <td>-0.609756</td>\n",
       "      <td>-0.666545</td>\n",
       "      <td>...</td>\n",
       "      <td>0.0</td>\n",
       "      <td>0.0</td>\n",
       "      <td>0.0</td>\n",
       "      <td>0.0</td>\n",
       "      <td>0.0</td>\n",
       "      <td>0.0</td>\n",
       "      <td>0.0</td>\n",
       "      <td>0.0</td>\n",
       "      <td>0.0</td>\n",
       "      <td>0.0</td>\n",
       "    </tr>\n",
       "    <tr>\n",
       "      <th>46061</th>\n",
       "      <td>-0.110229</td>\n",
       "      <td>0.446791</td>\n",
       "      <td>-1.035529</td>\n",
       "      <td>-0.123186</td>\n",
       "      <td>0.666310</td>\n",
       "      <td>-0.984532</td>\n",
       "      <td>-0.305831</td>\n",
       "      <td>-0.670434</td>\n",
       "      <td>-0.688539</td>\n",
       "      <td>-0.577254</td>\n",
       "      <td>...</td>\n",
       "      <td>0.0</td>\n",
       "      <td>0.0</td>\n",
       "      <td>0.0</td>\n",
       "      <td>0.0</td>\n",
       "      <td>0.0</td>\n",
       "      <td>0.0</td>\n",
       "      <td>0.0</td>\n",
       "      <td>0.0</td>\n",
       "      <td>0.0</td>\n",
       "      <td>0.0</td>\n",
       "    </tr>\n",
       "    <tr>\n",
       "      <th>46062</th>\n",
       "      <td>-0.244446</td>\n",
       "      <td>-0.449653</td>\n",
       "      <td>-0.486482</td>\n",
       "      <td>0.239920</td>\n",
       "      <td>-0.250154</td>\n",
       "      <td>-0.166978</td>\n",
       "      <td>-0.419939</td>\n",
       "      <td>-0.569863</td>\n",
       "      <td>-0.452190</td>\n",
       "      <td>-0.339145</td>\n",
       "      <td>...</td>\n",
       "      <td>0.0</td>\n",
       "      <td>0.0</td>\n",
       "      <td>0.0</td>\n",
       "      <td>0.0</td>\n",
       "      <td>0.0</td>\n",
       "      <td>0.0</td>\n",
       "      <td>0.0</td>\n",
       "      <td>0.0</td>\n",
       "      <td>0.0</td>\n",
       "      <td>1.0</td>\n",
       "    </tr>\n",
       "  </tbody>\n",
       "</table>\n",
       "<p>46063 rows × 99 columns</p>\n",
       "</div>"
      ]
     },
     "execution_count": 37,
     "metadata": {},
     "output_type": "execute_result"
    }
   ],
   "execution_count": 37
  },
  {
   "metadata": {
    "ExecuteTime": {
     "end_time": "2024-12-06T09:32:28.232486Z",
     "start_time": "2024-12-06T09:32:27.572245Z"
    }
   },
   "cell_type": "code",
   "source": "new = pd.read_csv(\"../data/training/X_train.csv\")",
   "id": "e80fa10cc3698206",
   "outputs": [],
   "execution_count": 39
  },
  {
   "metadata": {
    "ExecuteTime": {
     "end_time": "2024-12-06T09:32:28.507490Z",
     "start_time": "2024-12-06T09:32:28.492718Z"
    }
   },
   "cell_type": "code",
   "source": "new.isna().sum()",
   "id": "ab9c8f35f9f0d90b",
   "outputs": [
    {
     "data": {
      "text/plain": [
       "traffic_volume_0_period_0    0\n",
       "traffic_volume_1_period_0    0\n",
       "traffic_volume_2_period_0    0\n",
       "traffic_volume_0_period_1    0\n",
       "traffic_volume_1_period_1    0\n",
       "                            ..\n",
       "hour_19                      0\n",
       "hour_20                      0\n",
       "hour_21                      0\n",
       "hour_22                      0\n",
       "hour_23                      0\n",
       "Length: 99, dtype: int64"
      ]
     },
     "execution_count": 40,
     "metadata": {},
     "output_type": "execute_result"
    }
   ],
   "execution_count": 40
  }
 ],
 "metadata": {
  "kernelspec": {
   "display_name": "Python 3",
   "language": "python",
   "name": "python3"
  },
  "language_info": {
   "codemirror_mode": {
    "name": "ipython",
    "version": 2
   },
   "file_extension": ".py",
   "mimetype": "text/x-python",
   "name": "python",
   "nbconvert_exporter": "python",
   "pygments_lexer": "ipython2",
   "version": "2.7.6"
  }
 },
 "nbformat": 4,
 "nbformat_minor": 5
}
