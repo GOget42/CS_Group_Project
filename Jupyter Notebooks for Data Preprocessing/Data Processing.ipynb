{
 "cells": [
  {
   "metadata": {
    "ExecuteTime": {
     "end_time": "2024-11-21T11:06:30.923398Z",
     "start_time": "2024-11-21T11:06:30.904685Z"
    }
   },
   "cell_type": "code",
   "source": [
    "import pandas as pd\n",
    "from sklearn.model_selection import train_test_split"
   ],
   "id": "b0759e6d4f0a7c84",
   "outputs": [],
   "execution_count": 53
  },
  {
   "metadata": {
    "ExecuteTime": {
     "end_time": "2024-11-21T11:06:31.016197Z",
     "start_time": "2024-11-21T11:06:30.940445Z"
    }
   },
   "cell_type": "code",
   "source": [
    "accidents = pd.read_csv('../data/clean/accidents_clean.csv')\n",
    "accidents.info()"
   ],
   "id": "b19cc16391b556b6",
   "outputs": [
    {
     "name": "stdout",
     "output_type": "stream",
     "text": [
      "<class 'pandas.core.frame.DataFrame'>\n",
      "RangeIndex: 61058 entries, 0 to 61057\n",
      "Data columns (total 9 columns):\n",
      " #   Column                       Non-Null Count  Dtype \n",
      "---  ------                       --------------  ----- \n",
      " 0   AccidentSeverityCategory_de  61058 non-null  object\n",
      " 1   AccidentInvolvingPedestrian  61058 non-null  bool  \n",
      " 2   AccidentInvolvingBicycle     61058 non-null  bool  \n",
      " 3   AccidentInvolvingMotorcycle  61058 non-null  bool  \n",
      " 4   RoadType_de                  61058 non-null  object\n",
      " 5   AccidentYear                 61058 non-null  int64 \n",
      " 6   AccidentMonth_de             61058 non-null  object\n",
      " 7   AccidentWeekDay_de           61058 non-null  object\n",
      " 8   AccidentHour                 61058 non-null  int64 \n",
      "dtypes: bool(3), int64(2), object(4)\n",
      "memory usage: 3.0+ MB\n"
     ]
    }
   ],
   "execution_count": 54
  },
  {
   "metadata": {
    "ExecuteTime": {
     "end_time": "2024-11-21T11:06:31.148070Z",
     "start_time": "2024-11-21T11:06:31.088666Z"
    }
   },
   "cell_type": "code",
   "source": [
    "# Aufteilung in Features und Label\n",
    "X = accidents.drop('AccidentSeverityCategory_de', axis=1)\n",
    "y = accidents['AccidentSeverityCategory_de']\n",
    "\n",
    "rs = 1\n",
    "\n",
    "# Aufteilung in Trainings- und Testdaten (80% training, 20% Test)\n",
    "X_train, X_test, y_train, y_test = train_test_split(\n",
    "    X, y, test_size=0.2, random_state=rs, stratify=y)"
   ],
   "id": "9d20842f557784d7",
   "outputs": [],
   "execution_count": 55
  },
  {
   "cell_type": "code",
   "id": "initial_id",
   "metadata": {
    "collapsed": true,
    "ExecuteTime": {
     "end_time": "2024-11-21T11:06:31.216388Z",
     "start_time": "2024-11-21T11:06:31.164641Z"
    }
   },
   "source": [
    "dummy_variables = [\"RoadType_de\", \"AccidentMonth_de\", \"AccidentWeekDay_de\", \"AccidentHour\"]\n",
    "X_train = pd.get_dummies(X_train, columns=dummy_variables) #drop_first?\n",
    "X_test = pd.get_dummies(X_test, columns=dummy_variables)\n",
    "\n",
    "train_columns = X_train.columns\n",
    "test_columns = X_test.columns\n",
    "\n",
    "missing_columns = set(train_columns) - set(test_columns)\n",
    "for column in missing_columns:\n",
    "    X_test[column] = False\n",
    "    \n",
    "extra_columns = set(test_columns) - set(train_columns)\n",
    "for column in extra_columns:\n",
    "    X_test.drop(columns=extra_columns, inplace=True)\n",
    "\n",
    "# Die Spalten im Testdatensatz entsprechend dem Trainingsdatensatz sortieren\n",
    "X_test = X_test[train_columns]\n",
    "\n",
    "print(\"Trainingsdaten:\")\n",
    "print(X_train.info())\n",
    "print(\"\\nTestdaten:\")\n",
    "print(X_test.info())"
   ],
   "outputs": [
    {
     "name": "stdout",
     "output_type": "stream",
     "text": [
      "Trainingsdaten:\n",
      "<class 'pandas.core.frame.DataFrame'>\n",
      "Index: 48846 entries, 42995 to 21725\n",
      "Data columns (total 50 columns):\n",
      " #   Column                         Non-Null Count  Dtype\n",
      "---  ------                         --------------  -----\n",
      " 0   AccidentInvolvingPedestrian    48846 non-null  bool \n",
      " 1   AccidentInvolvingBicycle       48846 non-null  bool \n",
      " 2   AccidentInvolvingMotorcycle    48846 non-null  bool \n",
      " 3   AccidentYear                   48846 non-null  int64\n",
      " 4   RoadType_de_Hauptstrasse       48846 non-null  bool \n",
      " 5   RoadType_de_Nebenstrasse       48846 non-null  bool \n",
      " 6   RoadType_de_andere             48846 non-null  bool \n",
      " 7   AccidentMonth_de_April         48846 non-null  bool \n",
      " 8   AccidentMonth_de_August        48846 non-null  bool \n",
      " 9   AccidentMonth_de_Dezember      48846 non-null  bool \n",
      " 10  AccidentMonth_de_Februar       48846 non-null  bool \n",
      " 11  AccidentMonth_de_Januar        48846 non-null  bool \n",
      " 12  AccidentMonth_de_Juli          48846 non-null  bool \n",
      " 13  AccidentMonth_de_Juni          48846 non-null  bool \n",
      " 14  AccidentMonth_de_Mai           48846 non-null  bool \n",
      " 15  AccidentMonth_de_März          48846 non-null  bool \n",
      " 16  AccidentMonth_de_November      48846 non-null  bool \n",
      " 17  AccidentMonth_de_Oktober       48846 non-null  bool \n",
      " 18  AccidentMonth_de_September     48846 non-null  bool \n",
      " 19  AccidentWeekDay_de_Dienstag    48846 non-null  bool \n",
      " 20  AccidentWeekDay_de_Donnerstag  48846 non-null  bool \n",
      " 21  AccidentWeekDay_de_Freitag     48846 non-null  bool \n",
      " 22  AccidentWeekDay_de_Mittwoch    48846 non-null  bool \n",
      " 23  AccidentWeekDay_de_Montag      48846 non-null  bool \n",
      " 24  AccidentWeekDay_de_Samstag     48846 non-null  bool \n",
      " 25  AccidentWeekDay_de_Sonntag     48846 non-null  bool \n",
      " 26  AccidentHour_0                 48846 non-null  bool \n",
      " 27  AccidentHour_1                 48846 non-null  bool \n",
      " 28  AccidentHour_2                 48846 non-null  bool \n",
      " 29  AccidentHour_3                 48846 non-null  bool \n",
      " 30  AccidentHour_4                 48846 non-null  bool \n",
      " 31  AccidentHour_5                 48846 non-null  bool \n",
      " 32  AccidentHour_6                 48846 non-null  bool \n",
      " 33  AccidentHour_7                 48846 non-null  bool \n",
      " 34  AccidentHour_8                 48846 non-null  bool \n",
      " 35  AccidentHour_9                 48846 non-null  bool \n",
      " 36  AccidentHour_10                48846 non-null  bool \n",
      " 37  AccidentHour_11                48846 non-null  bool \n",
      " 38  AccidentHour_12                48846 non-null  bool \n",
      " 39  AccidentHour_13                48846 non-null  bool \n",
      " 40  AccidentHour_14                48846 non-null  bool \n",
      " 41  AccidentHour_15                48846 non-null  bool \n",
      " 42  AccidentHour_16                48846 non-null  bool \n",
      " 43  AccidentHour_17                48846 non-null  bool \n",
      " 44  AccidentHour_18                48846 non-null  bool \n",
      " 45  AccidentHour_19                48846 non-null  bool \n",
      " 46  AccidentHour_20                48846 non-null  bool \n",
      " 47  AccidentHour_21                48846 non-null  bool \n",
      " 48  AccidentHour_22                48846 non-null  bool \n",
      " 49  AccidentHour_23                48846 non-null  bool \n",
      "dtypes: bool(49), int64(1)\n",
      "memory usage: 3.0 MB\n",
      "None\n",
      "\n",
      "Testdaten:\n",
      "<class 'pandas.core.frame.DataFrame'>\n",
      "Index: 12212 entries, 58212 to 25525\n",
      "Data columns (total 50 columns):\n",
      " #   Column                         Non-Null Count  Dtype\n",
      "---  ------                         --------------  -----\n",
      " 0   AccidentInvolvingPedestrian    12212 non-null  bool \n",
      " 1   AccidentInvolvingBicycle       12212 non-null  bool \n",
      " 2   AccidentInvolvingMotorcycle    12212 non-null  bool \n",
      " 3   AccidentYear                   12212 non-null  int64\n",
      " 4   RoadType_de_Hauptstrasse       12212 non-null  bool \n",
      " 5   RoadType_de_Nebenstrasse       12212 non-null  bool \n",
      " 6   RoadType_de_andere             12212 non-null  bool \n",
      " 7   AccidentMonth_de_April         12212 non-null  bool \n",
      " 8   AccidentMonth_de_August        12212 non-null  bool \n",
      " 9   AccidentMonth_de_Dezember      12212 non-null  bool \n",
      " 10  AccidentMonth_de_Februar       12212 non-null  bool \n",
      " 11  AccidentMonth_de_Januar        12212 non-null  bool \n",
      " 12  AccidentMonth_de_Juli          12212 non-null  bool \n",
      " 13  AccidentMonth_de_Juni          12212 non-null  bool \n",
      " 14  AccidentMonth_de_Mai           12212 non-null  bool \n",
      " 15  AccidentMonth_de_März          12212 non-null  bool \n",
      " 16  AccidentMonth_de_November      12212 non-null  bool \n",
      " 17  AccidentMonth_de_Oktober       12212 non-null  bool \n",
      " 18  AccidentMonth_de_September     12212 non-null  bool \n",
      " 19  AccidentWeekDay_de_Dienstag    12212 non-null  bool \n",
      " 20  AccidentWeekDay_de_Donnerstag  12212 non-null  bool \n",
      " 21  AccidentWeekDay_de_Freitag     12212 non-null  bool \n",
      " 22  AccidentWeekDay_de_Mittwoch    12212 non-null  bool \n",
      " 23  AccidentWeekDay_de_Montag      12212 non-null  bool \n",
      " 24  AccidentWeekDay_de_Samstag     12212 non-null  bool \n",
      " 25  AccidentWeekDay_de_Sonntag     12212 non-null  bool \n",
      " 26  AccidentHour_0                 12212 non-null  bool \n",
      " 27  AccidentHour_1                 12212 non-null  bool \n",
      " 28  AccidentHour_2                 12212 non-null  bool \n",
      " 29  AccidentHour_3                 12212 non-null  bool \n",
      " 30  AccidentHour_4                 12212 non-null  bool \n",
      " 31  AccidentHour_5                 12212 non-null  bool \n",
      " 32  AccidentHour_6                 12212 non-null  bool \n",
      " 33  AccidentHour_7                 12212 non-null  bool \n",
      " 34  AccidentHour_8                 12212 non-null  bool \n",
      " 35  AccidentHour_9                 12212 non-null  bool \n",
      " 36  AccidentHour_10                12212 non-null  bool \n",
      " 37  AccidentHour_11                12212 non-null  bool \n",
      " 38  AccidentHour_12                12212 non-null  bool \n",
      " 39  AccidentHour_13                12212 non-null  bool \n",
      " 40  AccidentHour_14                12212 non-null  bool \n",
      " 41  AccidentHour_15                12212 non-null  bool \n",
      " 42  AccidentHour_16                12212 non-null  bool \n",
      " 43  AccidentHour_17                12212 non-null  bool \n",
      " 44  AccidentHour_18                12212 non-null  bool \n",
      " 45  AccidentHour_19                12212 non-null  bool \n",
      " 46  AccidentHour_20                12212 non-null  bool \n",
      " 47  AccidentHour_21                12212 non-null  bool \n",
      " 48  AccidentHour_22                12212 non-null  bool \n",
      " 49  AccidentHour_23                12212 non-null  bool \n",
      "dtypes: bool(49), int64(1)\n",
      "memory usage: 775.2 KB\n",
      "None\n"
     ]
    }
   ],
   "execution_count": 56
  },
  {
   "metadata": {
    "ExecuteTime": {
     "end_time": "2024-11-21T11:06:31.256422Z",
     "start_time": "2024-11-21T11:06:31.246370Z"
    }
   },
   "cell_type": "code",
   "source": "y_test.value_counts()",
   "id": "add64efb6bada9f3",
   "outputs": [
    {
     "data": {
      "text/plain": [
       "AccidentSeverityCategory_de\n",
       "Unfall mit Sachschaden         9086\n",
       "Unfall mit Leichtverletzten    2601\n",
       "Unfall mit Schwerverletzten     508\n",
       "Unfall mit Getöteten             17\n",
       "Name: count, dtype: int64"
      ]
     },
     "execution_count": 57,
     "metadata": {},
     "output_type": "execute_result"
    }
   ],
   "execution_count": 57
  },
  {
   "metadata": {
    "ExecuteTime": {
     "end_time": "2024-11-21T11:06:31.325712Z",
     "start_time": "2024-11-21T11:06:31.316035Z"
    }
   },
   "cell_type": "code",
   "source": [
    "y_train = (y_train != 'Unfall mit Sachschaden').astype(int)\n",
    "y_test = (y_test != 'Unfall mit Sachschaden').astype(int)\n"
   ],
   "id": "5f6fd142b596912c",
   "outputs": [],
   "execution_count": 58
  },
  {
   "metadata": {
    "ExecuteTime": {
     "end_time": "2024-11-21T11:06:32.255648Z",
     "start_time": "2024-11-21T11:06:31.376723Z"
    }
   },
   "cell_type": "code",
   "source": [
    "X_test.to_csv(\"../data/training/X_test.csv\", index=False)\n",
    "X_train.to_csv(\"../data/training/X_train.csv\", index=False)\n",
    "y_test.to_csv(\"../data/training/y_test.csv\", index=False)\n",
    "y_train.to_csv(\"../data/training/y_train.csv\", index=False)"
   ],
   "id": "cf9a80b3f09a85e7",
   "outputs": [],
   "execution_count": 59
  }
 ],
 "metadata": {
  "kernelspec": {
   "display_name": "Python 3",
   "language": "python",
   "name": "python3"
  },
  "language_info": {
   "codemirror_mode": {
    "name": "ipython",
    "version": 2
   },
   "file_extension": ".py",
   "mimetype": "text/x-python",
   "name": "python",
   "nbconvert_exporter": "python",
   "pygments_lexer": "ipython2",
   "version": "2.7.6"
  }
 },
 "nbformat": 4,
 "nbformat_minor": 5
}
