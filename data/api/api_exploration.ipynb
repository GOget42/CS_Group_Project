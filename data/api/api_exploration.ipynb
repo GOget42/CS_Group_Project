{
 "cells": [
  {
   "metadata": {},
   "cell_type": "markdown",
   "source": [
    "## CKAN API Exploration\n",
    "To retrieve the correct datasets from the ckan api, we need to find the correct ID for each dataset. This Notebook served as a tool to search and identify the correct IDs for our datasets, that were subsequently saved in the dictionary of get_data.py."
   ],
   "id": "49804ccf037fdb66"
  },
  {
   "cell_type": "code",
   "id": "initial_id",
   "metadata": {
    "collapsed": true,
    "ExecuteTime": {
     "end_time": "2024-12-08T16:57:16.831987Z",
     "start_time": "2024-12-08T16:57:16.025503Z"
    }
   },
   "source": "from modules.ckan_api import ckan_request",
   "outputs": [],
   "execution_count": 2
  },
  {
   "metadata": {
    "ExecuteTime": {
     "end_time": "2024-11-24T12:32:28.460886Z",
     "start_time": "2024-11-24T12:32:28.452566Z"
    }
   },
   "cell_type": "code",
   "source": [
    "# These are the site names of the different datasets we wanted to include in our project.\n",
    "# We therefore used different words contained in these titles to perform a keyword search.\n",
    "dataset_site_names = {\n",
    "    'accidents': 'Polizeilich registrierte Verkehrsunfälle auf dem Stadtgebiet Zürich seit 2011',\n",
    "    'traffic_volume': 'Daten der Verkehrszählung zum motorisierten Individualverkehr (Stundenwerte), seit 2012',\n",
    "    'pedestrian_volume': 'Daten der automatischen Fussgänger- und Velozählung - Viertelstundenwerte'\n",
    "}"
   ],
   "id": "d6ef590739af54b",
   "outputs": [],
   "execution_count": 123
  },
  {
   "metadata": {
    "ExecuteTime": {
     "end_time": "2024-11-24T12:37:40.029460Z",
     "start_time": "2024-11-24T12:37:39.631093Z"
    }
   },
   "cell_type": "code",
   "source": [
    "action = 'package_search'\n",
    "params = {\"q\": 'Viertelstundenwerte'}\n",
    "\n",
    "results = ckan_request(action=action, params=params)\n",
    "print('Found', results['count'], 'datasets')"
   ],
   "id": "21f1c69b8ece2c7b",
   "outputs": [
    {
     "name": "stdout",
     "output_type": "stream",
     "text": [
      "\n",
      "Found 6 results\n"
     ]
    }
   ],
   "execution_count": 130
  },
  {
   "metadata": {
    "ExecuteTime": {
     "end_time": "2024-11-24T12:39:40.169183Z",
     "start_time": "2024-11-24T12:39:40.161248Z"
    }
   },
   "cell_type": "code",
   "source": [
    "# Display the Title, ID and number of associated csv files for each dataset\n",
    "for dataset in results['results']:\n",
    "    print(dataset['title']['de'])\n",
    "    print('ID:', dataset['id'])\n",
    "    csv_num = 0\n",
    "    for resource in dataset['resources']:\n",
    "        if resource['url'].endswith('.csv'):\n",
    "            csv_num += 1\n",
    "    print('Number of csv files: ', csv_num)\n",
    "    print('\\n')"
   ],
   "id": "4a7fcb59f958a81e",
   "outputs": [
    {
     "name": "stdout",
     "output_type": "stream",
     "text": [
      "Viertelstundenwerte des Stromverbrauchs in Mittelbünden, seit 2018\n",
      "ID: 7b95e3ea-02e4-4a8e-bc97-da96ad34ec7b\n",
      "Number of csv files:  1\n",
      "\n",
      "\n",
      "Daten der automatischen Fussgänger- und Velozählung - Viertelstundenwerte\n",
      "ID: b5ae1507-d930-4448-a6d0-e08cde338d2b\n",
      "Number of csv files:  16\n",
      "\n",
      "\n",
      "Viertelstundenwerte zum Bruttolastgang elektrische Energie der Stadt Zürich, seit 2019\n",
      "ID: 1ec1635e-d31e-452a-a592-33addfbbbc03\n",
      "Number of csv files:  6\n",
      "\n",
      "\n",
      "Viertelstundenwerte des Stromverbrauchs in den Netzebenen 5 und 7 in der Stadt Zürich, seit 2015\n",
      "ID: 99eea847-858c-46a4-983e-6f75259bcb9a\n",
      "Number of csv files:  1\n",
      "\n",
      "\n",
      "Daten der permanenten Velozählstellen - Stundenwerte (Nachführung eingestellt)\n",
      "ID: f7a5f2c8-6bd1-4567-90f9-b32d26e2d3a9\n",
      "Number of csv files:  9\n",
      "\n",
      "\n",
      "Standorte der automatischen Fuss- und Velozählungen\n",
      "ID: e391c26c-f636-4b89-965c-a1ce97280d7f\n",
      "Number of csv files:  0\n",
      "\n",
      "\n"
     ]
    }
   ],
   "execution_count": 133
  },
  {
   "metadata": {
    "ExecuteTime": {
     "end_time": "2024-11-24T12:32:45.666290Z",
     "start_time": "2024-11-24T12:32:45.661082Z"
    }
   },
   "cell_type": "code",
   "source": "print(results['results'][0].keys())",
   "id": "336b65398d4ec627",
   "outputs": [
    {
     "name": "stdout",
     "output_type": "stream",
     "text": [
      "dict_keys(['license_title', 'maintainer', 'issued', 'title_for_slug', 'qualified_relations', 'private', 'maintainer_email', 'num_tags', 'contact_points', 'keywords', 'temporals', 'id', 'metadata_created', 'documentation', 'conforms_to', 'metadata_modified', 'author', 'author_email', 'isopen', 'relations', 'state', 'version', 'relationships_as_object', 'license_id', 'see_alsos', 'type', 'resources', 'num_resources', 'description', 'tags', 'spatial', 'groups', 'creator_user_id', 'display_name', 'relationships_as_subject', 'publisher', 'organization', 'name', 'language', 'accrual_periodicity', 'owner_org', 'url', 'extras', 'title', 'revision_id', 'identifier'])\n"
     ]
    }
   ],
   "execution_count": 126
  },
  {
   "metadata": {
    "ExecuteTime": {
     "end_time": "2024-11-24T12:32:46.611987Z",
     "start_time": "2024-11-24T12:32:46.606449Z"
    }
   },
   "cell_type": "code",
   "source": "print(results['results'][0]['resources'][0].keys())",
   "id": "61b9c70efbb34023",
   "outputs": [
    {
     "name": "stdout",
     "output_type": "stream",
     "text": [
      "dict_keys(['byte_size', 'cache_last_updated', 'issued', 'uri', 'package_id', 'temporal_resolution', 'datastore_contains_all_records_of_source_file', 'datastore_active', 'id', 'size', 'rights', 'display_name', 'title', 'download_url', 'state', 'media_type', 'hash', 'description', 'format', 'language', 'mimetype_inner', 'url_type', 'name', 'mimetype', 'cache_url', 'license', 'access_services', 'created', 'url', 'documentation', 'modified', 'last_modified', 'position', 'revision_id', 'identifier', 'resource_type'])\n"
     ]
    }
   ],
   "execution_count": 127
  },
  {
   "metadata": {},
   "cell_type": "markdown",
   "source": [
    "## Open Meteo API Exploration\n",
    "We also explored the Weather API to find out how it works and what it repons with.\n"
   ],
   "id": "5d93d8c5e202d368"
  },
  {
   "metadata": {
    "ExecuteTime": {
     "end_time": "2024-12-08T16:57:21.089928Z",
     "start_time": "2024-12-08T16:57:20.844770Z"
    }
   },
   "cell_type": "code",
   "source": "from modules.open_meteo_api import open_meteo_request",
   "id": "3732809340c01d61",
   "outputs": [],
   "execution_count": 3
  },
  {
   "metadata": {
    "ExecuteTime": {
     "end_time": "2024-12-08T16:57:22.415634Z",
     "start_time": "2024-12-08T16:57:22.156896Z"
    }
   },
   "cell_type": "code",
   "source": [
    "result = open_meteo_request(start_date=\"2024-11-05\", end_date=\"2024-11-06\", base_url=\"https://api.open-meteo.com/v1/forecast\")\n",
    "result"
   ],
   "id": "3190d225a0160d30",
   "outputs": [
    {
     "name": "stdout",
     "output_type": "stream",
     "text": [
      "Minutely tracker reset for a new minute: 2024-12-08 17:57\n"
     ]
    },
    {
     "data": {
      "text/plain": [
       "{'time': ['2024-11-05T00:00',\n",
       "  '2024-11-05T01:00',\n",
       "  '2024-11-05T02:00',\n",
       "  '2024-11-05T03:00',\n",
       "  '2024-11-05T04:00',\n",
       "  '2024-11-05T05:00',\n",
       "  '2024-11-05T06:00',\n",
       "  '2024-11-05T07:00',\n",
       "  '2024-11-05T08:00',\n",
       "  '2024-11-05T09:00',\n",
       "  '2024-11-05T10:00',\n",
       "  '2024-11-05T11:00',\n",
       "  '2024-11-05T12:00',\n",
       "  '2024-11-05T13:00',\n",
       "  '2024-11-05T14:00',\n",
       "  '2024-11-05T15:00',\n",
       "  '2024-11-05T16:00',\n",
       "  '2024-11-05T17:00',\n",
       "  '2024-11-05T18:00',\n",
       "  '2024-11-05T19:00',\n",
       "  '2024-11-05T20:00',\n",
       "  '2024-11-05T21:00',\n",
       "  '2024-11-05T22:00',\n",
       "  '2024-11-05T23:00',\n",
       "  '2024-11-06T00:00',\n",
       "  '2024-11-06T01:00',\n",
       "  '2024-11-06T02:00',\n",
       "  '2024-11-06T03:00',\n",
       "  '2024-11-06T04:00',\n",
       "  '2024-11-06T05:00',\n",
       "  '2024-11-06T06:00',\n",
       "  '2024-11-06T07:00',\n",
       "  '2024-11-06T08:00',\n",
       "  '2024-11-06T09:00',\n",
       "  '2024-11-06T10:00',\n",
       "  '2024-11-06T11:00',\n",
       "  '2024-11-06T12:00',\n",
       "  '2024-11-06T13:00',\n",
       "  '2024-11-06T14:00',\n",
       "  '2024-11-06T15:00',\n",
       "  '2024-11-06T16:00',\n",
       "  '2024-11-06T17:00',\n",
       "  '2024-11-06T18:00',\n",
       "  '2024-11-06T19:00',\n",
       "  '2024-11-06T20:00',\n",
       "  '2024-11-06T21:00',\n",
       "  '2024-11-06T22:00',\n",
       "  '2024-11-06T23:00'],\n",
       " 'temperature_2m': [7.0,\n",
       "  7.1,\n",
       "  7.1,\n",
       "  7.3,\n",
       "  7.2,\n",
       "  7.3,\n",
       "  7.3,\n",
       "  6.8,\n",
       "  6.9,\n",
       "  7.3,\n",
       "  7.8,\n",
       "  9.2,\n",
       "  10.7,\n",
       "  10.6,\n",
       "  11.6,\n",
       "  11.9,\n",
       "  11.5,\n",
       "  11.1,\n",
       "  10.8,\n",
       "  9.3,\n",
       "  9.1,\n",
       "  7.9,\n",
       "  7.1,\n",
       "  7.2,\n",
       "  7.2,\n",
       "  6.2,\n",
       "  6.1,\n",
       "  6.3,\n",
       "  6.2,\n",
       "  6.2,\n",
       "  5.8,\n",
       "  5.9,\n",
       "  6.0,\n",
       "  6.9,\n",
       "  7.6,\n",
       "  9.0,\n",
       "  10.7,\n",
       "  11.7,\n",
       "  12.5,\n",
       "  12.9,\n",
       "  13.0,\n",
       "  12.2,\n",
       "  10.7,\n",
       "  9.6,\n",
       "  9.1,\n",
       "  8.8,\n",
       "  8.1,\n",
       "  8.3],\n",
       " 'precipitation': [0.0,\n",
       "  0.0,\n",
       "  0.0,\n",
       "  0.0,\n",
       "  0.0,\n",
       "  0.0,\n",
       "  0.0,\n",
       "  0.0,\n",
       "  0.0,\n",
       "  0.0,\n",
       "  0.0,\n",
       "  0.0,\n",
       "  0.0,\n",
       "  0.0,\n",
       "  0.0,\n",
       "  0.0,\n",
       "  0.0,\n",
       "  0.0,\n",
       "  0.0,\n",
       "  0.0,\n",
       "  0.0,\n",
       "  0.0,\n",
       "  0.0,\n",
       "  0.0,\n",
       "  0.0,\n",
       "  0.0,\n",
       "  0.0,\n",
       "  0.0,\n",
       "  0.0,\n",
       "  0.0,\n",
       "  0.0,\n",
       "  0.0,\n",
       "  0.0,\n",
       "  0.0,\n",
       "  0.0,\n",
       "  0.0,\n",
       "  0.0,\n",
       "  0.0,\n",
       "  0.0,\n",
       "  0.0,\n",
       "  0.0,\n",
       "  0.0,\n",
       "  0.0,\n",
       "  0.0,\n",
       "  0.0,\n",
       "  0.0,\n",
       "  0.0,\n",
       "  0.0],\n",
       " 'snowfall': [0.0,\n",
       "  0.0,\n",
       "  0.0,\n",
       "  0.0,\n",
       "  0.0,\n",
       "  0.0,\n",
       "  0.0,\n",
       "  0.0,\n",
       "  0.0,\n",
       "  0.0,\n",
       "  0.0,\n",
       "  0.0,\n",
       "  0.0,\n",
       "  0.0,\n",
       "  0.0,\n",
       "  0.0,\n",
       "  0.0,\n",
       "  0.0,\n",
       "  0.0,\n",
       "  0.0,\n",
       "  0.0,\n",
       "  0.0,\n",
       "  0.0,\n",
       "  0.0,\n",
       "  0.0,\n",
       "  0.0,\n",
       "  0.0,\n",
       "  0.0,\n",
       "  0.0,\n",
       "  0.0,\n",
       "  0.0,\n",
       "  0.0,\n",
       "  0.0,\n",
       "  0.0,\n",
       "  0.0,\n",
       "  0.0,\n",
       "  0.0,\n",
       "  0.0,\n",
       "  0.0,\n",
       "  0.0,\n",
       "  0.0,\n",
       "  0.0,\n",
       "  0.0,\n",
       "  0.0,\n",
       "  0.0,\n",
       "  0.0,\n",
       "  0.0,\n",
       "  0.0],\n",
       " 'snow_depth': [0.0,\n",
       "  0.0,\n",
       "  0.0,\n",
       "  0.0,\n",
       "  0.0,\n",
       "  0.0,\n",
       "  0.0,\n",
       "  0.0,\n",
       "  0.0,\n",
       "  0.0,\n",
       "  0.0,\n",
       "  0.0,\n",
       "  0.0,\n",
       "  0.0,\n",
       "  0.0,\n",
       "  0.0,\n",
       "  0.0,\n",
       "  0.0,\n",
       "  0.0,\n",
       "  0.0,\n",
       "  0.0,\n",
       "  0.0,\n",
       "  0.0,\n",
       "  0.0,\n",
       "  0.0,\n",
       "  0.0,\n",
       "  0.0,\n",
       "  0.0,\n",
       "  0.0,\n",
       "  0.0,\n",
       "  0.0,\n",
       "  0.0,\n",
       "  0.0,\n",
       "  0.0,\n",
       "  0.0,\n",
       "  0.0,\n",
       "  0.0,\n",
       "  0.0,\n",
       "  0.0,\n",
       "  0.0,\n",
       "  0.0,\n",
       "  0.0,\n",
       "  0.0,\n",
       "  0.0,\n",
       "  0.0,\n",
       "  0.0,\n",
       "  0.0,\n",
       "  0.0],\n",
       " 'surface_pressure': [973.3,\n",
       "  973.5,\n",
       "  973.8,\n",
       "  973.8,\n",
       "  974.0,\n",
       "  973.6,\n",
       "  973.4,\n",
       "  974.1,\n",
       "  974.1,\n",
       "  974.2,\n",
       "  975.0,\n",
       "  974.1,\n",
       "  973.3,\n",
       "  973.5,\n",
       "  972.9,\n",
       "  973.0,\n",
       "  973.1,\n",
       "  973.1,\n",
       "  973.1,\n",
       "  973.7,\n",
       "  973.7,\n",
       "  973.9,\n",
       "  974.3,\n",
       "  974.2,\n",
       "  974.5,\n",
       "  974.6,\n",
       "  974.6,\n",
       "  974.8,\n",
       "  975.2,\n",
       "  974.8,\n",
       "  975.3,\n",
       "  976.3,\n",
       "  976.3,\n",
       "  976.6,\n",
       "  976.9,\n",
       "  977.2,\n",
       "  977.2,\n",
       "  976.7,\n",
       "  976.3,\n",
       "  976.1,\n",
       "  975.6,\n",
       "  975.9,\n",
       "  976.0,\n",
       "  976.5,\n",
       "  976.3,\n",
       "  976.7,\n",
       "  977.3,\n",
       "  977.2],\n",
       " 'cloud_cover': [100,\n",
       "  100,\n",
       "  100,\n",
       "  100,\n",
       "  100,\n",
       "  100,\n",
       "  91,\n",
       "  89,\n",
       "  77,\n",
       "  88,\n",
       "  90,\n",
       "  95,\n",
       "  100,\n",
       "  100,\n",
       "  38,\n",
       "  16,\n",
       "  0,\n",
       "  5,\n",
       "  0,\n",
       "  45,\n",
       "  13,\n",
       "  65,\n",
       "  100,\n",
       "  100,\n",
       "  100,\n",
       "  83,\n",
       "  100,\n",
       "  100,\n",
       "  45,\n",
       "  33,\n",
       "  57,\n",
       "  56,\n",
       "  73,\n",
       "  59,\n",
       "  56,\n",
       "  5,\n",
       "  48,\n",
       "  18,\n",
       "  100,\n",
       "  100,\n",
       "  7,\n",
       "  56,\n",
       "  10,\n",
       "  35,\n",
       "  39,\n",
       "  59,\n",
       "  82,\n",
       "  77]}"
      ]
     },
     "execution_count": 4,
     "metadata": {},
     "output_type": "execute_result"
    }
   ],
   "execution_count": 4
  },
  {
   "metadata": {
    "ExecuteTime": {
     "end_time": "2024-12-08T16:57:29.384106Z",
     "start_time": "2024-12-08T16:57:29.370056Z"
    }
   },
   "cell_type": "code",
   "source": "result['time']",
   "id": "2fabc82a867690a8",
   "outputs": [
    {
     "data": {
      "text/plain": [
       "['2024-11-05T00:00',\n",
       " '2024-11-05T01:00',\n",
       " '2024-11-05T02:00',\n",
       " '2024-11-05T03:00',\n",
       " '2024-11-05T04:00',\n",
       " '2024-11-05T05:00',\n",
       " '2024-11-05T06:00',\n",
       " '2024-11-05T07:00',\n",
       " '2024-11-05T08:00',\n",
       " '2024-11-05T09:00',\n",
       " '2024-11-05T10:00',\n",
       " '2024-11-05T11:00',\n",
       " '2024-11-05T12:00',\n",
       " '2024-11-05T13:00',\n",
       " '2024-11-05T14:00',\n",
       " '2024-11-05T15:00',\n",
       " '2024-11-05T16:00',\n",
       " '2024-11-05T17:00',\n",
       " '2024-11-05T18:00',\n",
       " '2024-11-05T19:00',\n",
       " '2024-11-05T20:00',\n",
       " '2024-11-05T21:00',\n",
       " '2024-11-05T22:00',\n",
       " '2024-11-05T23:00',\n",
       " '2024-11-06T00:00',\n",
       " '2024-11-06T01:00',\n",
       " '2024-11-06T02:00',\n",
       " '2024-11-06T03:00',\n",
       " '2024-11-06T04:00',\n",
       " '2024-11-06T05:00',\n",
       " '2024-11-06T06:00',\n",
       " '2024-11-06T07:00',\n",
       " '2024-11-06T08:00',\n",
       " '2024-11-06T09:00',\n",
       " '2024-11-06T10:00',\n",
       " '2024-11-06T11:00',\n",
       " '2024-11-06T12:00',\n",
       " '2024-11-06T13:00',\n",
       " '2024-11-06T14:00',\n",
       " '2024-11-06T15:00',\n",
       " '2024-11-06T16:00',\n",
       " '2024-11-06T17:00',\n",
       " '2024-11-06T18:00',\n",
       " '2024-11-06T19:00',\n",
       " '2024-11-06T20:00',\n",
       " '2024-11-06T21:00',\n",
       " '2024-11-06T22:00',\n",
       " '2024-11-06T23:00']"
      ]
     },
     "execution_count": 5,
     "metadata": {},
     "output_type": "execute_result"
    }
   ],
   "execution_count": 5
  },
  {
   "metadata": {
    "ExecuteTime": {
     "end_time": "2024-11-24T20:43:02.875518Z",
     "start_time": "2024-11-24T20:43:02.865175Z"
    }
   },
   "cell_type": "code",
   "source": "result.keys()",
   "id": "b9b18ea97b00cf07",
   "outputs": [
    {
     "data": {
      "text/plain": [
       "dict_keys(['time', 'temperature_2m', 'precipitation', 'snowfall', 'snow_depth', 'surface_pressure', 'cloud_cover'])"
      ]
     },
     "execution_count": 5,
     "metadata": {},
     "output_type": "execute_result"
    }
   ],
   "execution_count": 5
  },
  {
   "metadata": {},
   "cell_type": "markdown",
   "source": "### Open Meteo Forecast",
   "id": "f556d74eb78e6a2b"
  },
  {
   "metadata": {
    "ExecuteTime": {
     "end_time": "2024-12-08T16:57:14.182210Z",
     "start_time": "2024-12-08T16:57:13.033845Z"
    }
   },
   "cell_type": "code",
   "source": [
    "result = open_meteo_request(start_date=\"2024-11-27\", end_date=\"2024-11-28\", base_url=\"https://api.open-meteo.com/v1/forecast\")\n",
    "result"
   ],
   "id": "10a0b67a4ab9867d",
   "outputs": [
    {
     "ename": "NameError",
     "evalue": "name 'open_meteo_request' is not defined",
     "output_type": "error",
     "traceback": [
      "\u001B[1;31m---------------------------------------------------------------------------\u001B[0m",
      "\u001B[1;31mNameError\u001B[0m                                 Traceback (most recent call last)",
      "Cell \u001B[1;32mIn[1], line 1\u001B[0m\n\u001B[1;32m----> 1\u001B[0m result \u001B[38;5;241m=\u001B[39m \u001B[43mopen_meteo_request\u001B[49m(start_date\u001B[38;5;241m=\u001B[39m\u001B[38;5;124m\"\u001B[39m\u001B[38;5;124m2024-11-27\u001B[39m\u001B[38;5;124m\"\u001B[39m, end_date\u001B[38;5;241m=\u001B[39m\u001B[38;5;124m\"\u001B[39m\u001B[38;5;124m2024-11-28\u001B[39m\u001B[38;5;124m\"\u001B[39m, base_url\u001B[38;5;241m=\u001B[39m\u001B[38;5;124m\"\u001B[39m\u001B[38;5;124mhttps://api.open-meteo.com/v1/forecast\u001B[39m\u001B[38;5;124m\"\u001B[39m)\n\u001B[0;32m      2\u001B[0m result\n",
      "\u001B[1;31mNameError\u001B[0m: name 'open_meteo_request' is not defined"
     ]
    }
   ],
   "execution_count": 1
  },
  {
   "metadata": {
    "ExecuteTime": {
     "end_time": "2024-11-24T20:44:52.771977Z",
     "start_time": "2024-11-24T20:44:52.766273Z"
    }
   },
   "cell_type": "code",
   "source": "result.keys()",
   "id": "1207b0a35a40caa3",
   "outputs": [
    {
     "data": {
      "text/plain": [
       "dict_keys(['time', 'temperature_2m', 'precipitation', 'snowfall', 'snow_depth', 'surface_pressure', 'cloud_cover'])"
      ]
     },
     "execution_count": 6,
     "metadata": {},
     "output_type": "execute_result"
    }
   ],
   "execution_count": 6
  }
 ],
 "metadata": {
  "kernelspec": {
   "display_name": "Python 3",
   "language": "python",
   "name": "python3"
  },
  "language_info": {
   "codemirror_mode": {
    "name": "ipython",
    "version": 2
   },
   "file_extension": ".py",
   "mimetype": "text/x-python",
   "name": "python",
   "nbconvert_exporter": "python",
   "pygments_lexer": "ipython2",
   "version": "2.7.6"
  }
 },
 "nbformat": 4,
 "nbformat_minor": 5
}
