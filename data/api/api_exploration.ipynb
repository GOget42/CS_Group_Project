{
 "cells": [
  {
   "metadata": {},
   "cell_type": "markdown",
   "source": [
    "## CKAN API Exploration\n",
    "To retrieve the correct datasets from the ckan api, we need to find the correct ID for each dataset. This Notebook served as a tool to search and identify the correct IDs for our datasets, that were subsequently saved in the dictionary of get_data.py."
   ],
   "id": "49804ccf037fdb66"
  },
  {
   "cell_type": "code",
   "id": "initial_id",
   "metadata": {
    "collapsed": true,
    "ExecuteTime": {
     "end_time": "2024-11-24T12:32:27.623811Z",
     "start_time": "2024-11-24T12:32:27.422500Z"
    }
   },
   "source": "from modules.ckan_api import ckan_request",
   "outputs": [],
   "execution_count": 122
  },
  {
   "metadata": {
    "ExecuteTime": {
     "end_time": "2024-11-24T12:32:28.460886Z",
     "start_time": "2024-11-24T12:32:28.452566Z"
    }
   },
   "cell_type": "code",
   "source": [
    "# These are the site names of the different datasets we wanted to include in our project.\n",
    "# We therefore used different words contained in these titles to perform a keyword search.\n",
    "dataset_site_names = {\n",
    "    'accidents': 'Polizeilich registrierte Verkehrsunfälle auf dem Stadtgebiet Zürich seit 2011',\n",
    "    'traffic_volume': 'Daten der Verkehrszählung zum motorisierten Individualverkehr (Stundenwerte), seit 2012',\n",
    "    'pedestrian_volume': 'Daten der automatischen Fussgänger- und Velozählung - Viertelstundenwerte'\n",
    "}"
   ],
   "id": "d6ef590739af54b",
   "outputs": [],
   "execution_count": 123
  },
  {
   "metadata": {
    "ExecuteTime": {
     "end_time": "2024-11-24T12:37:40.029460Z",
     "start_time": "2024-11-24T12:37:39.631093Z"
    }
   },
   "cell_type": "code",
   "source": [
    "action = 'package_search'\n",
    "params = {\"q\": 'Viertelstundenwerte'}\n",
    "\n",
    "results = ckan_request(action=action, params=params)\n",
    "print('Found', results['count'], 'datasets')"
   ],
   "id": "21f1c69b8ece2c7b",
   "outputs": [
    {
     "name": "stdout",
     "output_type": "stream",
     "text": [
      "\n",
      "Found 6 results\n"
     ]
    }
   ],
   "execution_count": 130
  },
  {
   "metadata": {
    "ExecuteTime": {
     "end_time": "2024-11-24T12:39:40.169183Z",
     "start_time": "2024-11-24T12:39:40.161248Z"
    }
   },
   "cell_type": "code",
   "source": [
    "# Display the Title, ID and number of associated csv files for each dataset\n",
    "for dataset in results['results']:\n",
    "    print(dataset['title']['de'])\n",
    "    print('ID:', dataset['id'])\n",
    "    csv_num = 0\n",
    "    for resource in dataset['resources']:\n",
    "        if resource['url'].endswith('.csv'):\n",
    "            csv_num += 1\n",
    "    print('Number of csv files: ', csv_num)\n",
    "    print('\\n')"
   ],
   "id": "4a7fcb59f958a81e",
   "outputs": [
    {
     "name": "stdout",
     "output_type": "stream",
     "text": [
      "Viertelstundenwerte des Stromverbrauchs in Mittelbünden, seit 2018\n",
      "ID: 7b95e3ea-02e4-4a8e-bc97-da96ad34ec7b\n",
      "Number of csv files:  1\n",
      "\n",
      "\n",
      "Daten der automatischen Fussgänger- und Velozählung - Viertelstundenwerte\n",
      "ID: b5ae1507-d930-4448-a6d0-e08cde338d2b\n",
      "Number of csv files:  16\n",
      "\n",
      "\n",
      "Viertelstundenwerte zum Bruttolastgang elektrische Energie der Stadt Zürich, seit 2019\n",
      "ID: 1ec1635e-d31e-452a-a592-33addfbbbc03\n",
      "Number of csv files:  6\n",
      "\n",
      "\n",
      "Viertelstundenwerte des Stromverbrauchs in den Netzebenen 5 und 7 in der Stadt Zürich, seit 2015\n",
      "ID: 99eea847-858c-46a4-983e-6f75259bcb9a\n",
      "Number of csv files:  1\n",
      "\n",
      "\n",
      "Daten der permanenten Velozählstellen - Stundenwerte (Nachführung eingestellt)\n",
      "ID: f7a5f2c8-6bd1-4567-90f9-b32d26e2d3a9\n",
      "Number of csv files:  9\n",
      "\n",
      "\n",
      "Standorte der automatischen Fuss- und Velozählungen\n",
      "ID: e391c26c-f636-4b89-965c-a1ce97280d7f\n",
      "Number of csv files:  0\n",
      "\n",
      "\n"
     ]
    }
   ],
   "execution_count": 133
  },
  {
   "metadata": {
    "ExecuteTime": {
     "end_time": "2024-11-24T12:32:45.666290Z",
     "start_time": "2024-11-24T12:32:45.661082Z"
    }
   },
   "cell_type": "code",
   "source": "print(results['results'][0].keys())",
   "id": "336b65398d4ec627",
   "outputs": [
    {
     "name": "stdout",
     "output_type": "stream",
     "text": [
      "dict_keys(['license_title', 'maintainer', 'issued', 'title_for_slug', 'qualified_relations', 'private', 'maintainer_email', 'num_tags', 'contact_points', 'keywords', 'temporals', 'id', 'metadata_created', 'documentation', 'conforms_to', 'metadata_modified', 'author', 'author_email', 'isopen', 'relations', 'state', 'version', 'relationships_as_object', 'license_id', 'see_alsos', 'type', 'resources', 'num_resources', 'description', 'tags', 'spatial', 'groups', 'creator_user_id', 'display_name', 'relationships_as_subject', 'publisher', 'organization', 'name', 'language', 'accrual_periodicity', 'owner_org', 'url', 'extras', 'title', 'revision_id', 'identifier'])\n"
     ]
    }
   ],
   "execution_count": 126
  },
  {
   "metadata": {
    "ExecuteTime": {
     "end_time": "2024-11-24T12:32:46.611987Z",
     "start_time": "2024-11-24T12:32:46.606449Z"
    }
   },
   "cell_type": "code",
   "source": "print(results['results'][0]['resources'][0].keys())",
   "id": "61b9c70efbb34023",
   "outputs": [
    {
     "name": "stdout",
     "output_type": "stream",
     "text": [
      "dict_keys(['byte_size', 'cache_last_updated', 'issued', 'uri', 'package_id', 'temporal_resolution', 'datastore_contains_all_records_of_source_file', 'datastore_active', 'id', 'size', 'rights', 'display_name', 'title', 'download_url', 'state', 'media_type', 'hash', 'description', 'format', 'language', 'mimetype_inner', 'url_type', 'name', 'mimetype', 'cache_url', 'license', 'access_services', 'created', 'url', 'documentation', 'modified', 'last_modified', 'position', 'revision_id', 'identifier', 'resource_type'])\n"
     ]
    }
   ],
   "execution_count": 127
  }
 ],
 "metadata": {
  "kernelspec": {
   "display_name": "Python 3",
   "language": "python",
   "name": "python3"
  },
  "language_info": {
   "codemirror_mode": {
    "name": "ipython",
    "version": 2
   },
   "file_extension": ".py",
   "mimetype": "text/x-python",
   "name": "python",
   "nbconvert_exporter": "python",
   "pygments_lexer": "ipython2",
   "version": "2.7.6"
  }
 },
 "nbformat": 4,
 "nbformat_minor": 5
}
